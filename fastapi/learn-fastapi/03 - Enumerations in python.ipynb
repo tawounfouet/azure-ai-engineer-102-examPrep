{
 "cells": [
  {
   "cell_type": "markdown",
   "id": "863f929e-ad9f-4608-9e7c-d8184ada041c",
   "metadata": {},
   "source": [
    "# enum — Support for enumerations"
   ]
  },
  {
   "cell_type": "code",
   "execution_count": 1,
   "id": "552496eb-479f-4940-9117-09d2a8158019",
   "metadata": {},
   "outputs": [],
   "source": [
    "# https://docs.python.org/3/library/enum.html"
   ]
  },
  {
   "cell_type": "markdown",
   "id": "6c0f32d6-ac63-44e0-92ae-0a31c095a0f3",
   "metadata": {},
   "source": [
    "An enumeration:\n",
    "\n",
    "- is a set of symbolic names (members) bound to unique values\n",
    "\n",
    "- can be iterated over to return its canonical (i.e. non-alias) members in definition order\n",
    "\n",
    "- uses call syntax to return members by value\n",
    "\n",
    "- uses index syntax to return members by name\n",
    "\n",
    "Enumerations are created either by using class syntax, or by using function-call syntax:\n"
   ]
  },
  {
   "cell_type": "code",
   "execution_count": 2,
   "id": "3ab36615-638b-4b11-a0bd-5de37cccd4ca",
   "metadata": {},
   "outputs": [],
   "source": [
    "from enum import Enum\n",
    "\n",
    "# class syntax\n",
    "class Color(Enum):\n",
    "    RED = 1\n",
    "    GREEN = 2\n",
    "    BLUE = 3\n",
    "\n",
    "# functional syntax\n",
    "Color = Enum('Color', ['RED', 'GREEN', 'BLUE'])"
   ]
  },
  {
   "cell_type": "code",
   "execution_count": 3,
   "id": "e846445e-7cda-4ea9-837a-6011d8a871ab",
   "metadata": {},
   "outputs": [
    {
     "data": {
      "text/plain": [
       "<enum 'Color'>"
      ]
     },
     "execution_count": 3,
     "metadata": {},
     "output_type": "execute_result"
    }
   ],
   "source": [
    "Color"
   ]
  },
  {
   "cell_type": "code",
   "execution_count": 7,
   "id": "e14ba554-585c-4bc5-90b2-6414e83034fd",
   "metadata": {},
   "outputs": [
    {
     "data": {
      "text/plain": [
       "['BLUE', 'GREEN', 'RED', '__class__', '__doc__', '__members__', '__module__']"
      ]
     },
     "execution_count": 7,
     "metadata": {},
     "output_type": "execute_result"
    }
   ],
   "source": [
    "dir(Color)"
   ]
  },
  {
   "cell_type": "code",
   "execution_count": 6,
   "id": "7c557ac4-9dfc-491b-9fbd-b4f4e3d29fab",
   "metadata": {},
   "outputs": [
    {
     "data": {
      "text/plain": [
       "<Color.BLUE: 3>"
      ]
     },
     "execution_count": 6,
     "metadata": {},
     "output_type": "execute_result"
    }
   ],
   "source": [
    "Color.BLUE"
   ]
  },
  {
   "cell_type": "code",
   "execution_count": 8,
   "id": "5923feb3-38a9-4ac6-b5d9-18d4d8605808",
   "metadata": {},
   "outputs": [
    {
     "data": {
      "text/plain": [
       "['__class__', '__doc__', '__module__', 'name', 'today', 'value']"
      ]
     },
     "execution_count": 8,
     "metadata": {},
     "output_type": "execute_result"
    }
   ],
   "source": [
    "from datetime import date\n",
    "class Weekday(Enum):\n",
    "    MONDAY = 1\n",
    "    TUESDAY = 2\n",
    "    WEDNESDAY = 3\n",
    "    THURSDAY = 4\n",
    "    FRIDAY = 5\n",
    "    SATURDAY = 6\n",
    "    SUNDAY = 7\n",
    "    \n",
    "    @classmethod\n",
    "    def today(cls):\n",
    "        print('today is %s' % cls(date.today().isoweekday()).name)\n",
    "\n",
    "dir(Weekday.SATURDAY)"
   ]
  },
  {
   "cell_type": "code",
   "execution_count": 15,
   "id": "e1d9be7a-b294-4cae-b133-e22d8e275223",
   "metadata": {},
   "outputs": [
    {
     "data": {
      "text/plain": [
       "['FRIDAY',\n",
       " 'MONDAY',\n",
       " 'SATURDAY',\n",
       " 'SUNDAY',\n",
       " 'THURSDAY',\n",
       " 'TUESDAY',\n",
       " 'WEDNESDAY',\n",
       " '__class__',\n",
       " '__doc__',\n",
       " '__members__',\n",
       " '__module__']"
      ]
     },
     "execution_count": 15,
     "metadata": {},
     "output_type": "execute_result"
    }
   ],
   "source": [
    "dir(Weekday)"
   ]
  },
  {
   "cell_type": "code",
   "execution_count": 11,
   "id": "2c40d889-5b7b-4019-b793-4e35374d86d7",
   "metadata": {},
   "outputs": [
    {
     "data": {
      "text/plain": [
       "<enum 'Weekday'>"
      ]
     },
     "execution_count": 11,
     "metadata": {},
     "output_type": "execute_result"
    }
   ],
   "source": [
    "weedays = Weekday\n",
    "weedays"
   ]
  },
  {
   "cell_type": "code",
   "execution_count": 12,
   "id": "cf5ff4ef-5842-4531-9a89-7e84f669ef02",
   "metadata": {},
   "outputs": [
    {
     "data": {
      "text/plain": [
       "['FRIDAY',\n",
       " 'MONDAY',\n",
       " 'SATURDAY',\n",
       " 'SUNDAY',\n",
       " 'THURSDAY',\n",
       " 'TUESDAY',\n",
       " 'WEDNESDAY',\n",
       " '__class__',\n",
       " '__doc__',\n",
       " '__members__',\n",
       " '__module__']"
      ]
     },
     "execution_count": 12,
     "metadata": {},
     "output_type": "execute_result"
    }
   ],
   "source": [
    "dir(weedays)"
   ]
  },
  {
   "cell_type": "code",
   "execution_count": 13,
   "id": "3be0a5d4-5d17-420a-a887-59bf02d7ff41",
   "metadata": {},
   "outputs": [
    {
     "name": "stdout",
     "output_type": "stream",
     "text": [
      "today is MONDAY\n"
     ]
    }
   ],
   "source": [
    "weedays.today()"
   ]
  },
  {
   "cell_type": "code",
   "execution_count": 14,
   "id": "60329775-7ffe-45cd-b689-f2e4eb7dc0ac",
   "metadata": {},
   "outputs": [
    {
     "data": {
      "text/plain": [
       "<Weekday.MONDAY: 1>"
      ]
     },
     "execution_count": 14,
     "metadata": {},
     "output_type": "execute_result"
    }
   ],
   "source": [
    "weedays.MONDAY"
   ]
  },
  {
   "cell_type": "code",
   "execution_count": null,
   "id": "0181ef72-a9dd-4bbf-a897-2be33f9e7fac",
   "metadata": {},
   "outputs": [],
   "source": []
  },
  {
   "cell_type": "code",
   "execution_count": null,
   "id": "fa1b995f-50b2-41bc-be28-7c9354d587ce",
   "metadata": {},
   "outputs": [],
   "source": []
  },
  {
   "cell_type": "code",
   "execution_count": 17,
   "id": "481d381d-6869-472d-9c13-0e27cc183bb7",
   "metadata": {},
   "outputs": [],
   "source": [
    "from enum import IntEnum\n",
    "class Number(IntEnum):\n",
    "    ONE = 1\n",
    "    TWO = 2\n",
    "    THREE = 3"
   ]
  },
  {
   "cell_type": "code",
   "execution_count": 18,
   "id": "f0c98482-7abd-4bb0-97bb-5c059a4df9c4",
   "metadata": {},
   "outputs": [
    {
     "data": {
      "text/plain": [
       "<Number.THREE: 3>"
      ]
     },
     "execution_count": 18,
     "metadata": {},
     "output_type": "execute_result"
    }
   ],
   "source": [
    "Number.THREE"
   ]
  },
  {
   "cell_type": "code",
   "execution_count": 19,
   "id": "72162cce-48c8-4b6d-b21b-f2eb82886bea",
   "metadata": {},
   "outputs": [
    {
     "data": {
      "text/plain": [
       "3"
      ]
     },
     "execution_count": 19,
     "metadata": {},
     "output_type": "execute_result"
    }
   ],
   "source": [
    "Number.ONE + Number.TWO"
   ]
  },
  {
   "cell_type": "code",
   "execution_count": 20,
   "id": "c21cd472-d47b-4369-84a5-e0eaa1dd9610",
   "metadata": {},
   "outputs": [
    {
     "data": {
      "text/plain": [
       "8"
      ]
     },
     "execution_count": 20,
     "metadata": {},
     "output_type": "execute_result"
    }
   ],
   "source": [
    "Number.THREE + 5"
   ]
  },
  {
   "cell_type": "code",
   "execution_count": 21,
   "id": "2014b112-ec1f-40ac-a45e-ecfc6fd5358d",
   "metadata": {},
   "outputs": [
    {
     "data": {
      "text/plain": [
       "<Number.THREE: 3>"
      ]
     },
     "execution_count": 21,
     "metadata": {},
     "output_type": "execute_result"
    }
   ],
   "source": [
    "Number.THREE"
   ]
  },
  {
   "cell_type": "code",
   "execution_count": 22,
   "id": "6a918825-e52e-473a-ae2d-15e4f0d30638",
   "metadata": {},
   "outputs": [
    {
     "data": {
      "text/plain": [
       "True"
      ]
     },
     "execution_count": 22,
     "metadata": {},
     "output_type": "execute_result"
    }
   ],
   "source": [
    "Number.THREE == 3"
   ]
  },
  {
   "cell_type": "markdown",
   "id": "620d0e30-1960-40ce-9ede-96ba8652bf71",
   "metadata": {},
   "source": [
    "## Basic Tutorial \n",
    "\n",
    "https://docs.python.org/3/howto/enum.html#enum-basic-tutorial"
   ]
  },
  {
   "cell_type": "code",
   "execution_count": null,
   "id": "35699299-95d8-4180-a698-8ae4508f5291",
   "metadata": {},
   "outputs": [],
   "source": []
  }
 ],
 "metadata": {
  "kernelspec": {
   "display_name": "Python 3 (ipykernel)",
   "language": "python",
   "name": "python3"
  },
  "language_info": {
   "codemirror_mode": {
    "name": "ipython",
    "version": 3
   },
   "file_extension": ".py",
   "mimetype": "text/x-python",
   "name": "python",
   "nbconvert_exporter": "python",
   "pygments_lexer": "ipython3",
   "version": "3.10.13"
  }
 },
 "nbformat": 4,
 "nbformat_minor": 5
}
