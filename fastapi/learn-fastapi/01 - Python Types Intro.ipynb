{
 "cells": [
  {
   "cell_type": "code",
   "execution_count": null,
   "id": "e1134776-26ad-48c8-bac4-a675d6893052",
   "metadata": {},
   "outputs": [],
   "source": []
  },
  {
   "cell_type": "code",
   "execution_count": null,
   "id": "61d3b292-cad7-4415-9a84-28a34f36fddc",
   "metadata": {},
   "outputs": [],
   "source": []
  },
  {
   "cell_type": "code",
   "execution_count": 1,
   "id": "dee5ad61-8d6c-4299-a2e7-c303ab3b05ce",
   "metadata": {},
   "outputs": [
    {
     "name": "stdout",
     "output_type": "stream",
     "text": [
      "John Doe\n"
     ]
    }
   ],
   "source": [
    "def get_full_name(first_name, last_name):\n",
    "    full_name = first_name.title() + \" \" + last_name.title()\n",
    "    return full_name\n",
    "\n",
    "\n",
    "print(get_full_name(\"john\", \"doe\"))"
   ]
  },
  {
   "cell_type": "code",
   "execution_count": null,
   "id": "1ec4fe22-9d2d-472f-b594-25947856af73",
   "metadata": {},
   "outputs": [],
   "source": []
  },
  {
   "cell_type": "code",
   "execution_count": 2,
   "id": "a15d1b36-dcbb-47bf-8fc8-46518aeca174",
   "metadata": {},
   "outputs": [
    {
     "name": "stdout",
     "output_type": "stream",
     "text": [
      "John Doe\n"
     ]
    }
   ],
   "source": [
    "def get_full_name(first_name: str, last_name: str):\n",
    "    full_name = first_name.title() + \" \" + last_name.title()\n",
    "    return full_name\n",
    "\n",
    "\n",
    "print(get_full_name(\"john\", \"doe\"))"
   ]
  },
  {
   "cell_type": "code",
   "execution_count": 3,
   "id": "3a75f3b6-1267-4cba-98f8-cb7c18c5d97d",
   "metadata": {},
   "outputs": [],
   "source": [
    "def get_name_with_age(name: str, age: int):\n",
    "    name_with_age = name + \" is this old: \" + age\n",
    "    return name_with_age"
   ]
  },
  {
   "cell_type": "code",
   "execution_count": 4,
   "id": "afbb9811-d21f-4549-927f-a521414d11ba",
   "metadata": {},
   "outputs": [
    {
     "ename": "TypeError",
     "evalue": "can only concatenate str (not \"int\") to str",
     "output_type": "error",
     "traceback": [
      "\u001b[0;31m---------------------------------------------------------------------------\u001b[0m",
      "\u001b[0;31mTypeError\u001b[0m                                 Traceback (most recent call last)",
      "Cell \u001b[0;32mIn[4], line 1\u001b[0m\n\u001b[0;32m----> 1\u001b[0m \u001b[38;5;28mprint\u001b[39m(\u001b[43mget_name_with_age\u001b[49m\u001b[43m(\u001b[49m\u001b[38;5;124;43m\"\u001b[39;49m\u001b[38;5;124;43mThomas\u001b[39;49m\u001b[38;5;124;43m\"\u001b[39;49m\u001b[43m,\u001b[49m\u001b[43m \u001b[49m\u001b[38;5;241;43m29\u001b[39;49m\u001b[43m)\u001b[49m)\n",
      "Cell \u001b[0;32mIn[3], line 2\u001b[0m, in \u001b[0;36mget_name_with_age\u001b[0;34m(name, age)\u001b[0m\n\u001b[1;32m      1\u001b[0m \u001b[38;5;28;01mdef\u001b[39;00m \u001b[38;5;21mget_name_with_age\u001b[39m(name: \u001b[38;5;28mstr\u001b[39m, age: \u001b[38;5;28mint\u001b[39m):\n\u001b[0;32m----> 2\u001b[0m     name_with_age \u001b[38;5;241m=\u001b[39m \u001b[43mname\u001b[49m\u001b[43m \u001b[49m\u001b[38;5;241;43m+\u001b[39;49m\u001b[43m \u001b[49m\u001b[38;5;124;43m\"\u001b[39;49m\u001b[38;5;124;43m is this old: \u001b[39;49m\u001b[38;5;124;43m\"\u001b[39;49m\u001b[43m \u001b[49m\u001b[38;5;241;43m+\u001b[39;49m\u001b[43m \u001b[49m\u001b[43mage\u001b[49m\n\u001b[1;32m      3\u001b[0m     \u001b[38;5;28;01mreturn\u001b[39;00m name_with_age\n",
      "\u001b[0;31mTypeError\u001b[0m: can only concatenate str (not \"int\") to str"
     ]
    }
   ],
   "source": [
    "print(get_name_with_age(\"Thomas\", 29))"
   ]
  },
  {
   "cell_type": "code",
   "execution_count": 5,
   "id": "4eddda0a-c25c-4826-9d88-809e16d5ea3c",
   "metadata": {},
   "outputs": [],
   "source": [
    "def get_name_with_age(name: str, age: int):\n",
    "    name_with_age = name + \" is this old: \" + str(age)\n",
    "    return name_with_age"
   ]
  },
  {
   "cell_type": "code",
   "execution_count": 6,
   "id": "101cc034-248b-43d3-93eb-17b31ad1266b",
   "metadata": {},
   "outputs": [
    {
     "name": "stdout",
     "output_type": "stream",
     "text": [
      "Thomas is this old: 29\n"
     ]
    }
   ],
   "source": [
    "print(get_name_with_age(\"Thomas\", 29))"
   ]
  },
  {
   "cell_type": "markdown",
   "id": "a216a948-f436-4718-a83c-07ecea86964a",
   "metadata": {},
   "source": [
    "### Declaring types¶\n",
    "You just saw the main place to declare type hints. As function parameters.\n",
    "\n",
    "This is also the main place you would use them with FastAPI.\n",
    "\n",
    "Simple types¶\n",
    "You can declare all the standard Python types, not only str.\n",
    "\n",
    "You can use, for example:\n",
    "- int\n",
    "- float\n",
    "- bool\n",
    "- bytes\n",
    "\n"
   ]
  },
  {
   "cell_type": "code",
   "execution_count": 7,
   "id": "2d084e8b-7020-4e91-8189-505ee6aa24e5",
   "metadata": {},
   "outputs": [],
   "source": [
    "def get_items(item_a: str, item_b: int, item_c: float, item_d: bool, item_e: bytes):\n",
    "    return item_a, item_b, item_c, item_d, item_d, item_e"
   ]
  },
  {
   "cell_type": "code",
   "execution_count": 8,
   "id": "edf1c5fd-ab76-43c5-84cf-95d041fe968d",
   "metadata": {},
   "outputs": [
    {
     "data": {
      "text/plain": [
       "('a', 'b', 'c', 'd', 'd', 'e')"
      ]
     },
     "execution_count": 8,
     "metadata": {},
     "output_type": "execute_result"
    }
   ],
   "source": [
    "get_items(\"a\", \"b\", \"c\",\"d\",\"e\")"
   ]
  },
  {
   "cell_type": "code",
   "execution_count": 9,
   "id": "acf00a2b-1425-462b-af92-9f4153ef5448",
   "metadata": {},
   "outputs": [
    {
     "data": {
      "text/plain": [
       "('a', 2, 3.5, True, True, 'e')"
      ]
     },
     "execution_count": 9,
     "metadata": {},
     "output_type": "execute_result"
    }
   ],
   "source": [
    "get_items(\"a\", 2, 3.5, True, \"e\")"
   ]
  },
  {
   "cell_type": "markdown",
   "id": "fcf29c39-a610-46c9-ae27-0dd0999660ab",
   "metadata": {},
   "source": [
    "### Generic types with type parameters¶\n",
    "There are some data structures that can contain other values, like `dict`, `list`, `set` and `tuple`. And the internal values can have their own type too.\n",
    "\n",
    "These types that have internal types are called \"generic\" types. And it's possible to declare them, even with their internal types.\n",
    "\n",
    "To declare those types and the internal types, you can use the standard Python module typing. It exists specifically to support these type hints.\n",
    "\n"
   ]
  },
  {
   "cell_type": "markdown",
   "id": "fb09415a-a872-497c-bbc8-f1c4854daea6",
   "metadata": {},
   "source": [
    "### Newer versions of Python \n",
    "The syntax using typing is compatible with all versions, from Python 3.6 to the latest ones, including Python 3.9, Python 3.10, etc."
   ]
  },
  {
   "cell_type": "markdown",
   "id": "806ceb09-a396-455e-af4e-2be4c6f3c3f0",
   "metadata": {},
   "source": [
    "#### List \n",
    "For example, let's define a variable to be a list of str.\n",
    "\n",
    "Declare the variable, with the same colon (:) syntax.\n",
    "\n",
    "As the type, put list.\n",
    "\n",
    "As the list is a type that contains some internal types, you put them in square brackets:"
   ]
  },
  {
   "cell_type": "code",
   "execution_count": 10,
   "id": "1306b2c0-6d38-4c8b-b6fa-ff99db6aa01a",
   "metadata": {},
   "outputs": [],
   "source": [
    "# python 3.8+\n",
    "from typing import List\n",
    "def process_items(items: List[str]):\n",
    "    for item in items:\n",
    "        print(item)\n",
    "\n",
    "\n",
    "# python 3.9+\n",
    "def process_items(items: list[str]):\n",
    "    for item in items:\n",
    "        print(item)"
   ]
  },
  {
   "cell_type": "code",
   "execution_count": 11,
   "id": "881bbd10-97d2-42b3-91b3-50a5753e4b98",
   "metadata": {},
   "outputs": [
    {
     "name": "stdout",
     "output_type": "stream",
     "text": [
      "a\n",
      "b\n"
     ]
    }
   ],
   "source": [
    "process_items([\"a\", \"b\"])"
   ]
  },
  {
   "cell_type": "markdown",
   "id": "a86c063c-be18-4383-bd4f-af29e769ab48",
   "metadata": {},
   "source": [
    "#### Tuple and Set\n",
    "You would do the same to declare tuples and sets:"
   ]
  },
  {
   "cell_type": "code",
   "execution_count": 12,
   "id": "19f6c013-c9ac-4361-a49b-499cc6f7828b",
   "metadata": {},
   "outputs": [],
   "source": [
    "# python 3.8+\n",
    "from typing import Set, Tuple\n",
    "def process_items(items_t: Tuple[int, int, str], items_s: Set[bytes]):\n",
    "    return items_t, items_s\n",
    "\n",
    "# python 3.9+\n",
    "def process_items(items_t: tuple[int, int, str], items_s: set[bytes]):\n",
    "    return items_t, items_s"
   ]
  },
  {
   "cell_type": "code",
   "execution_count": 13,
   "id": "3b787b09-4a28-4e18-afe8-d2ed2355bec2",
   "metadata": {},
   "outputs": [
    {
     "name": "stdout",
     "output_type": "stream",
     "text": [
      "Returned Tuple: (1, 2, 'apple')\n",
      "Returned Set: {b'banana', b'orange'}\n"
     ]
    }
   ],
   "source": [
    "# Define a tuple and a set of bytes\n",
    "items_tuple = (1, 2, \"apple\")\n",
    "items_set = {b\"banana\", b\"orange\"}\n",
    "\n",
    "# Call the function and unpack the results\n",
    "result_tuple, result_set = process_items(items_tuple, items_set)\n",
    "\n",
    "# Print the results\n",
    "print(\"Returned Tuple:\", result_tuple)\n",
    "print(\"Returned Set:\", result_set)"
   ]
  },
  {
   "cell_type": "markdown",
   "id": "e5a963ef-558b-4160-9f72-686d6f4ca815",
   "metadata": {},
   "source": [
    "**This means**:\n",
    "- The variable items_t is a tuple with 3 items, an int, another int, and a str.\n",
    "- The variable items_s is a set, and each of its items is of type bytes.\n"
   ]
  },
  {
   "cell_type": "markdown",
   "id": "5de1fe06-baa0-4ce0-a350-6751ea470aa1",
   "metadata": {},
   "source": [
    "#### Dict\n",
    "To define a dict, you pass 2 type parameters, separated by commas.\n",
    "\n",
    "The first type parameter is for the keys of the dict.\n",
    "\n",
    "The second type parameter is for the values of the dict"
   ]
  },
  {
   "cell_type": "code",
   "execution_count": 15,
   "id": "29e0c824-5a25-47bc-8517-df1a96b1dfd8",
   "metadata": {},
   "outputs": [],
   "source": [
    "# python 3.8+\n",
    "from typing import Dict\n",
    "def process_items(prices: Dict[str, float]):\n",
    "    for item_name, item_price in prices.items():\n",
    "        print(item_name)\n",
    "        print(item_price)\n",
    "\n",
    "# python 3.9+\n",
    "def process_items(prices: dict[str, float]):\n",
    "    for item_name, item_price in prices.items():\n",
    "        print(item_name)\n",
    "        print(item_price)"
   ]
  },
  {
   "cell_type": "code",
   "execution_count": 18,
   "id": "0e38a94b-ba1b-44e6-bd1b-7ea3c12fa744",
   "metadata": {},
   "outputs": [],
   "source": [
    "# code refactor\n",
    "def process_items(prices: dict[str, float]):\n",
    "    for item_name, item_price in prices.items():\n",
    "        print(f\"{item_name} : ${item_price}\")"
   ]
  },
  {
   "cell_type": "code",
   "execution_count": 19,
   "id": "0e59257d-5358-48f5-9e5e-cfdfa37e3470",
   "metadata": {},
   "outputs": [
    {
     "name": "stdout",
     "output_type": "stream",
     "text": [
      "apple : $2.5\n",
      "banana : $1.99\n",
      "orange : $3.25\n"
     ]
    }
   ],
   "source": [
    "# Define a sample dictionary of prices\n",
    "prices = {\"apple\": 2.50, \"banana\": 1.99, \"orange\": 3.25}\n",
    "\n",
    "# Call the function with the dictionary\n",
    "process_items(prices)"
   ]
  },
  {
   "cell_type": "markdown",
   "id": "ce896b57-b19f-4a5b-b0e6-c4d52ba1c232",
   "metadata": {},
   "source": [
    "**This means**:\n",
    "The variable prices is a dict:\n",
    "- The keys of this dict are of type str (let's say, the name of each item).\n",
    "- The values of this dict are of type float (let's say, the price of each item)."
   ]
  },
  {
   "cell_type": "markdown",
   "id": "56220969-7a82-4c8d-b211-f43fbd630a6e",
   "metadata": {},
   "source": [
    "#### Union \n",
    "You can declare that a variable can be any of several types, for example, an int or a str.\n",
    "\n",
    "In Python 3.6 and above (including Python 3.10) you can use the Union type from typing and put inside the square brackets the possible types to accept.\n",
    "\n",
    "In Python 3.10 there's also a new syntax where you can put the possible types separated by a vertical bar (|).\n",
    "\n",
    "\n",
    "Python 3.10+\n"
   ]
  },
  {
   "cell_type": "code",
   "execution_count": 21,
   "id": "5821c3bf-02da-4414-b5d6-7a4c0576659e",
   "metadata": {},
   "outputs": [],
   "source": [
    "# python 3.8+\n",
    "from typing import Union\n",
    "def process_item(item: Union[int, str]):\n",
    "    print(item)\n",
    "\n",
    "# python 3.9+\n",
    "def process_item(item: int | str):\n",
    "    print(item)"
   ]
  },
  {
   "cell_type": "code",
   "execution_count": 22,
   "id": "c9e35e60-2391-4960-a1ce-4139eb961b1f",
   "metadata": {},
   "outputs": [
    {
     "name": "stdout",
     "output_type": "stream",
     "text": [
      "42\n",
      "Hello, world!\n"
     ]
    }
   ],
   "source": [
    "# python 3.9+\n",
    "def process_item(item: int | str):\n",
    "  \"\"\"This function prints the value of the argument passed.\"\"\"\n",
    "  print(item)\n",
    "\n",
    "# Call the function with an integer\n",
    "process_item(42)\n",
    "\n",
    "# Call the function with a string\n",
    "process_item(\"Hello, world!\")"
   ]
  },
  {
   "cell_type": "markdown",
   "id": "f9fec2fb-e3e2-4853-87b2-09968948cf8c",
   "metadata": {},
   "source": [
    "In both cases this means that item could be an int or a str."
   ]
  },
  {
   "cell_type": "markdown",
   "id": "3765be08-7cf1-41ad-b5fe-03c92888ec73",
   "metadata": {},
   "source": [
    "#### Possibly `None`\n",
    "You can declare that a value could have a type, like str, but that it could also be None.\n",
    "\n",
    "In Python 3.6 and above (including Python 3.10) you can declare it by importing and using Optional from the typing module."
   ]
  },
  {
   "cell_type": "code",
   "execution_count": 23,
   "id": "52e86b32-03a8-4d81-b574-d51af4c5e05d",
   "metadata": {},
   "outputs": [],
   "source": [
    "from typing import Optional\n",
    "\n",
    "\n",
    "def say_hi(name: Optional[str] = None):\n",
    "    if name is not None:\n",
    "        print(f\"Hey {name}!\")\n",
    "    else:\n",
    "        print(\"Hello World\")"
   ]
  },
  {
   "cell_type": "code",
   "execution_count": 24,
   "id": "09caddc3-37f8-4b8e-8b7f-ba5f9a589db5",
   "metadata": {},
   "outputs": [
    {
     "name": "stdout",
     "output_type": "stream",
     "text": [
      "Hey Alice!\n",
      "Hello World\n"
     ]
    }
   ],
   "source": [
    "from typing import Optional\n",
    "\n",
    "def say_hi(name: Optional[str] = None):\n",
    "  \"\"\"This function greets the user by name (if provided) or with a generic message.\"\"\"\n",
    "  if name is not None:\n",
    "    print(f\"Hey {name}!\")\n",
    "  else:\n",
    "    print(\"Hello World\")\n",
    "\n",
    "\n",
    "# Call the function with a name\n",
    "say_hi(\"Alice\")\n",
    "\n",
    "# Call the function without a name (using the default)\n",
    "say_hi()"
   ]
  },
  {
   "cell_type": "markdown",
   "id": "9636b508-7759-4995-95dd-7c41d9cdc4e8",
   "metadata": {},
   "source": [
    "Using `Optional[str]` instead of just str will let the editor help you detecting errors where you could be assuming that a value is always a str, when it could actually be None too.\n",
    "\n",
    "`Optional[Something]` is actually a shortcut for `Union[Something, None]`, they are equivalent.\n",
    "\n",
    "This also means that in Python 3.10, you can use Something | None:"
   ]
  },
  {
   "cell_type": "code",
   "execution_count": 25,
   "id": "47bd2873-f451-496e-82ac-9239c09bb41a",
   "metadata": {},
   "outputs": [],
   "source": [
    "# python 3.8+\n",
    "from typing import Optional\n",
    "def say_hi(name: Optional[str] = None):\n",
    "    if name is not None:\n",
    "        print(f\"Hey {name}!\")\n",
    "    else:\n",
    "        print(\"Hello World\")\n",
    "\n",
    "\n",
    "# or\n",
    "from typing import Union\n",
    "def say_hi(name: Union[str, None] = None):\n",
    "    if name is not None:\n",
    "        print(f\"Hey {name}!\")\n",
    "    else:\n",
    "        print(\"Hello World\")\n",
    "\n",
    "\n",
    "# python 3.9+\n",
    "def say_hi(name: str | None = None):\n",
    "    if name is not None:\n",
    "        print(f\"Hey {name}!\")\n",
    "    else:\n",
    "        print(\"Hello World\")"
   ]
  },
  {
   "cell_type": "markdown",
   "id": "6cfeb86b-389a-475f-899b-a0e0316b77bf",
   "metadata": {},
   "source": [
    "#### Using Union or Optional¶\n",
    "\n",
    "If you are using a Python version below 3.10, here's a tip from my very subjective point of view:\n",
    "\n",
    "🚨 Avoid using `Optional[SomeType]`\n",
    "Instead ✨ use `Union[SomeType, None]`✨.\n",
    "Both are equivalent and underneath they are the same, but I would recommend Union instead of Optional because the word \"optional\" would seem to imply that the value is optional, and it actually means \"it can be None\", even if it's not optional and is still required.\n",
    "\n",
    "I think `Union[SomeType, None]` is more explicit about what it means.\n",
    "\n",
    "It's just about the words and names. But those words can affect how you and your teammates think about the code.\n",
    "\n",
    "As an example, let's take this function:"
   ]
  },
  {
   "cell_type": "code",
   "execution_count": 26,
   "id": "dd4030aa-d32e-4da0-9969-0929775dc5ae",
   "metadata": {},
   "outputs": [],
   "source": [
    "from typing import Optional\n",
    "\n",
    "\n",
    "def say_hi(name: Optional[str]):\n",
    "    print(f\"Hey {name}!\")"
   ]
  },
  {
   "cell_type": "markdown",
   "id": "3a6e761c-1976-41e4-b44f-6af1cda171a8",
   "metadata": {},
   "source": [
    "The parameter name is defined as `Optional[str]`, but it is not optional, you cannot call the function without the parameter:"
   ]
  },
  {
   "cell_type": "code",
   "execution_count": 27,
   "id": "dedb3ce9-9f8c-4a7f-9563-b1ff60d7d8d8",
   "metadata": {},
   "outputs": [
    {
     "ename": "TypeError",
     "evalue": "say_hi() missing 1 required positional argument: 'name'",
     "output_type": "error",
     "traceback": [
      "\u001b[0;31m---------------------------------------------------------------------------\u001b[0m",
      "\u001b[0;31mTypeError\u001b[0m                                 Traceback (most recent call last)",
      "Cell \u001b[0;32mIn[27], line 1\u001b[0m\n\u001b[0;32m----> 1\u001b[0m \u001b[43msay_hi\u001b[49m\u001b[43m(\u001b[49m\u001b[43m)\u001b[49m  \u001b[38;5;66;03m# Oh, no, this throws an error! 😱\u001b[39;00m\n",
      "\u001b[0;31mTypeError\u001b[0m: say_hi() missing 1 required positional argument: 'name'"
     ]
    }
   ],
   "source": [
    "say_hi()  # Oh, no, this throws an error! 😱"
   ]
  },
  {
   "cell_type": "markdown",
   "id": "0aa411f5-ac43-4d28-aafd-41be4acd0889",
   "metadata": {},
   "source": [
    "The name parameter is **still required** (not optional) because it doesn't have a default value. Still, name accepts None as the value:"
   ]
  },
  {
   "cell_type": "code",
   "execution_count": 28,
   "id": "be23ad6a-f512-4c02-9a8d-521a030b8d5e",
   "metadata": {},
   "outputs": [
    {
     "name": "stdout",
     "output_type": "stream",
     "text": [
      "Hey None!\n"
     ]
    }
   ],
   "source": [
    "say_hi(name=None)  # This works, None is valid 🎉"
   ]
  },
  {
   "cell_type": "markdown",
   "id": "6852ac6f-a880-4add-bbe8-9cd7f49abf3c",
   "metadata": {},
   "source": [
    "The good news is, once you are on **Python 3.10** you won't have to worry about that, as you will be able to simply use | to define unions of types:"
   ]
  },
  {
   "cell_type": "code",
   "execution_count": 29,
   "id": "afdcea79-0eb0-4e66-b7e0-a7ace165a666",
   "metadata": {},
   "outputs": [],
   "source": [
    "def say_hi(name: str | None):\n",
    "    print(f\"Hey {name}!\")"
   ]
  },
  {
   "cell_type": "code",
   "execution_count": 31,
   "id": "69c5cd96-79d7-4ac9-926e-174ac581ab7e",
   "metadata": {},
   "outputs": [
    {
     "name": "stdout",
     "output_type": "stream",
     "text": [
      "Hey None!\n"
     ]
    }
   ],
   "source": [
    "say_hi(name=None)"
   ]
  },
  {
   "cell_type": "markdown",
   "id": "3b3a0db9-7b49-4818-aa45-419c3b943839",
   "metadata": {},
   "source": [
    "#### Generic types \n",
    "\n",
    "These types that take type parameters in square brackets are called Generic types or Generics, for example:"
   ]
  },
  {
   "cell_type": "markdown",
   "id": "8db1e421-c34d-47b5-b68d-6b52b838305d",
   "metadata": {},
   "source": [
    "##### Pyhton3.8+\n",
    "- List\n",
    "- Tuple\n",
    "- Set\n",
    "- Dict\n",
    "- Union\n",
    "- Optional\n",
    "...and others."
   ]
  },
  {
   "cell_type": "markdown",
   "id": "fbb9b1f0-85df-49cb-9fc4-1dfa3a062711",
   "metadata": {},
   "source": [
    "##### Pyhton3.8+\n",
    "\n",
    "You can use the same builtin types as generics (with square brackets and types inside):\n",
    "\n",
    "- list\n",
    "- tuple\n",
    "- set\n",
    "- dict\n",
    "\n",
    "\n",
    "And the same as with Python 3.8, from the typing module:\n",
    "- Union\n",
    "- Optional\n",
    "...and others.\n"
   ]
  },
  {
   "cell_type": "markdown",
   "id": "c8da4248-19f3-48b6-b6ec-2f5ecedfa822",
   "metadata": {},
   "source": [
    "##### Pyhton3.10+\n",
    "\n",
    "You can use the same builtin types as generics (with square brackets and types inside):\n",
    "- list\n",
    "- tuple\n",
    "- set\n",
    "- dict\n",
    "\n",
    "And the same as with Python 3.8, from the typing module:\n",
    "- Union\n",
    "- Optional (the same as with Python 3.8)\n",
    "...and others.\n",
    "\n",
    "In `Python 3.10`, as an alternative to using the generics Union and Optional, you can use the vertical bar ( **|** ) to declare unions of types, that's a lot better and simpler."
   ]
  },
  {
   "cell_type": "markdown",
   "id": "6640a6d2-27b9-49d2-ac4a-d4314fce0210",
   "metadata": {},
   "source": [
    "#### Classes as types\n",
    "\n",
    "You can also declare a class as the type of a variable.\n",
    "\n",
    "Let's say you have a class Person, with a name:"
   ]
  },
  {
   "cell_type": "code",
   "execution_count": 32,
   "id": "cc7dd18a-d4b4-4ad8-b01e-73985f0b6254",
   "metadata": {},
   "outputs": [],
   "source": [
    "class Person:\n",
    "    def __init__(self, name: str):\n",
    "        self.name = name\n",
    "\n",
    "\n",
    "def get_person_name(one_person: Person):\n",
    "    return one_person.name"
   ]
  },
  {
   "cell_type": "code",
   "execution_count": 33,
   "id": "0112d582-e1f6-48db-ad9f-09fdde062b83",
   "metadata": {},
   "outputs": [
    {
     "name": "stdout",
     "output_type": "stream",
     "text": [
      "Alice\n"
     ]
    }
   ],
   "source": [
    "class Person:\n",
    "  \"\"\"This class represents a person with a name.\"\"\"\n",
    "  def __init__(self, name: str):\n",
    "    \"\"\"\n",
    "    Initializes a Person object.\n",
    "\n",
    "    Args:\n",
    "      name: The name of the person.\n",
    "    \"\"\"\n",
    "    self.name = name\n",
    "\n",
    "\n",
    "def get_person_name(one_person: Person):\n",
    "  \"\"\"\n",
    "  Retrieves the name of the person object.\n",
    "\n",
    "  Args:\n",
    "    one_person: A Person object.\n",
    "\n",
    "  Returns:\n",
    "    The name of the person.\n",
    "  \"\"\"\n",
    "  return one_person.name\n",
    "\n",
    "# Create a Person object\n",
    "person1 = Person(\"Alice\")\n",
    "\n",
    "# Get the name using the function\n",
    "name = get_person_name(person1)\n",
    "\n",
    "# Print the retrieved name\n",
    "print(name)\n"
   ]
  },
  {
   "cell_type": "markdown",
   "id": "450777c7-deac-47b4-9ec0-e542f921f356",
   "metadata": {},
   "source": [
    "Notice that this means \"one_person is an instance of the class Person\".\n",
    "\n",
    "It doesn't mean \"one_person is the class called Person\"."
   ]
  },
  {
   "cell_type": "markdown",
   "id": "a7ba9edb-c291-44e7-b0bf-bc5b8f7eee42",
   "metadata": {},
   "source": [
    "#### Pydantic models\n",
    "\n",
    "Pydantic is a Python library to perform data validation.\n",
    "\n",
    "You declare the \"shape\" of the data as classes with attributes.\n",
    "\n",
    "And each attribute has a type.\n",
    "\n",
    "Then you create an instance of that class with some values and it will validate the values, convert them to the appropriate type (if that's the case) and give you an object with all the data.\n",
    "\n",
    "And you get all the editor support with that resulting object.\n",
    "\n",
    "An example from the official Pydantic docs:"
   ]
  },
  {
   "cell_type": "code",
   "execution_count": 34,
   "id": "f3c4a2f5-4b5f-4bcc-9287-94ce9cbd3581",
   "metadata": {},
   "outputs": [
    {
     "name": "stdout",
     "output_type": "stream",
     "text": [
      "id=123 name='John Doe' signup_ts=datetime.datetime(2017, 6, 1, 12, 22) friends=[1, 2, 3]\n",
      "123\n"
     ]
    }
   ],
   "source": [
    "# python3.8+\n",
    "\n",
    "from datetime import datetime\n",
    "from typing import List, Union\n",
    "\n",
    "from pydantic import BaseModel\n",
    "\n",
    "\n",
    "class User(BaseModel):\n",
    "    id: int\n",
    "    name: str = \"John Doe\"\n",
    "    signup_ts: Union[datetime, None] = None\n",
    "    friends: List[int] = []\n",
    "\n",
    "\n",
    "external_data = {\n",
    "    \"id\": \"123\",\n",
    "    \"signup_ts\": \"2017-06-01 12:22\",\n",
    "    \"friends\": [1, \"2\", b\"3\"],\n",
    "}\n",
    "user = User(**external_data)\n",
    "print(user)\n",
    "# > User id=123 name='John Doe' signup_ts=datetime.datetime(2017, 6, 1, 12, 22) friends=[1, 2, 3]\n",
    "print(user.id)\n",
    "# > 123"
   ]
  },
  {
   "cell_type": "code",
   "execution_count": 35,
   "id": "1fa54c03-94d9-49cc-8f76-e12eabe968a1",
   "metadata": {},
   "outputs": [
    {
     "name": "stdout",
     "output_type": "stream",
     "text": [
      "id=123 name='John Doe' signup_ts=datetime.datetime(2017, 6, 1, 12, 22) friends=[1, 2, 3]\n",
      "123\n"
     ]
    }
   ],
   "source": [
    "# python3.9+\n",
    "\n",
    "from datetime import datetime\n",
    "from typing import Union\n",
    "\n",
    "from pydantic import BaseModel\n",
    "\n",
    "\n",
    "class User(BaseModel):\n",
    "    id: int\n",
    "    name: str = \"John Doe\"\n",
    "    signup_ts: Union[datetime, None] = None\n",
    "    friends: list[int] = []\n",
    "\n",
    "\n",
    "external_data = {\n",
    "    \"id\": \"123\",\n",
    "    \"signup_ts\": \"2017-06-01 12:22\",\n",
    "    \"friends\": [1, \"2\", b\"3\"],\n",
    "}\n",
    "user = User(**external_data)\n",
    "print(user)\n",
    "# > User id=123 name='John Doe' signup_ts=datetime.datetime(2017, 6, 1, 12, 22) friends=[1, 2, 3]\n",
    "print(user.id)\n",
    "# > 123"
   ]
  },
  {
   "cell_type": "code",
   "execution_count": 36,
   "id": "29411b89-4704-4b72-a429-16fa132273b6",
   "metadata": {},
   "outputs": [
    {
     "name": "stdout",
     "output_type": "stream",
     "text": [
      "id=123 name='John Doe' signup_ts=datetime.datetime(2017, 6, 1, 12, 22) friends=[1, 2, 3]\n",
      "123\n"
     ]
    }
   ],
   "source": [
    "#python3.10+\n",
    "\n",
    "from datetime import datetime\n",
    "\n",
    "from pydantic import BaseModel\n",
    "\n",
    "\n",
    "class User(BaseModel):\n",
    "    id: int\n",
    "    name: str = \"John Doe\"\n",
    "    signup_ts: datetime | None = None\n",
    "    friends: list[int] = []\n",
    "\n",
    "\n",
    "external_data = {\n",
    "    \"id\": \"123\",\n",
    "    \"signup_ts\": \"2017-06-01 12:22\",\n",
    "    \"friends\": [1, \"2\", b\"3\"],\n",
    "}\n",
    "user = User(**external_data)\n",
    "print(user)\n",
    "# > User id=123 name='John Doe' signup_ts=datetime.datetime(2017, 6, 1, 12, 22) friends=[1, 2, 3]\n",
    "print(user.id)\n",
    "# > 123"
   ]
  },
  {
   "cell_type": "markdown",
   "id": "f95490c7-ea6a-4cc8-8ef9-7036d2a081ba",
   "metadata": {},
   "source": [
    "#### Type Hints with Metadata Annotations \n",
    "\n",
    "Python also has a feature that allows putting additional metadata in these type hints using Annotated."
   ]
  },
  {
   "cell_type": "code",
   "execution_count": 38,
   "id": "7743efa0-d37d-4da3-b1a7-a8e239592b76",
   "metadata": {},
   "outputs": [],
   "source": [
    "#python3.8+\n",
    "from typing_extensions import Annotated\n",
    "\n",
    "def say_hello(name: Annotated[str, \"this is just metadata\"]) -> str:\n",
    "    return f\"Hello {name}\""
   ]
  },
  {
   "cell_type": "code",
   "execution_count": 39,
   "id": "3855d462-31d7-430c-92bb-1c667414c0d4",
   "metadata": {},
   "outputs": [],
   "source": [
    "#python3.9+\n",
    "\n",
    "from typing import Annotated\n",
    "\n",
    "def say_hello(name: Annotated[str, \"this is just metadata\"]) -> str:\n",
    "    return f\"Hello {name}\""
   ]
  },
  {
   "cell_type": "code",
   "execution_count": null,
   "id": "94957832-f926-4d58-9501-f92d40bcbf19",
   "metadata": {},
   "outputs": [],
   "source": []
  },
  {
   "cell_type": "markdown",
   "id": "c7907224-23bb-4d0e-8c86-4716a21d4e1e",
   "metadata": {},
   "source": [
    "### Type hints in FastAPI\n",
    "\n",
    "FastAPI takes advantage of these type hints to do several things.\n",
    "\n",
    "With FastAPI you declare parameters with type hints and you get:\n",
    "- **Editor support**.\n",
    "- **Type checks**.\n",
    "...and **FastAPI** uses the same declarations to:\n",
    "\n",
    "- **Define requirements**: from request path parameters, query parameters, headers, bodies, dependencies, etc.\n",
    "- **Convert data**: from the request to the required type.\n",
    "- **Validate data**: coming from each request:\n",
    "    - Generating automatic errors returned to the client when the data is invalid.\n",
    "- **Document** the API using OpenAPI:\n",
    "    - which is then used by the automatic interactive documentation user interfaces.\n",
    "\n",
    "\n",
    "This might all sound abstract. Don't worry. You'll see all this in action in the Tutorial - User Guide.\n",
    "\n",
    "The important thing is that by using standard Python types, in a single place (instead of adding more classes, decorators, etc), FastAPI will do a lot of the work for you.\n",
    "\n",
    "https://fastapi.tiangolo.com/tutorial/"
   ]
  },
  {
   "cell_type": "code",
   "execution_count": null,
   "id": "b921f9a9-cbb3-440b-86b7-1044d1fbc8f9",
   "metadata": {},
   "outputs": [],
   "source": []
  }
 ],
 "metadata": {
  "kernelspec": {
   "display_name": "Python 3 (ipykernel)",
   "language": "python",
   "name": "python3"
  },
  "language_info": {
   "codemirror_mode": {
    "name": "ipython",
    "version": 3
   },
   "file_extension": ".py",
   "mimetype": "text/x-python",
   "name": "python",
   "nbconvert_exporter": "python",
   "pygments_lexer": "ipython3",
   "version": "3.10.13"
  }
 },
 "nbformat": 4,
 "nbformat_minor": 5
}
