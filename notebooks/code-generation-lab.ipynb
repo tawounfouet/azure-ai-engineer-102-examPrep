{
 "cells": [
  {
   "cell_type": "code",
   "execution_count": 1,
   "metadata": {},
   "outputs": [
    {
     "name": "stdout",
     "output_type": "stream",
     "text": [
      "Hello World\n"
     ]
    }
   ],
   "source": [
    "print(\"Hello World\")"
   ]
  },
  {
   "cell_type": "markdown",
   "metadata": {},
   "source": [
    "# Generate and improve code with Azure OpenAI Service\n",
    "\n",
    "https://microsoftlearning.github.io/mslearn-openai/Instructions/Exercises/04-code-generation.html "
   ]
  },
  {
   "cell_type": "markdown",
   "metadata": {},
   "source": [
    "### Generate code in chat playground\n",
    "Before using in your app, examine how Azure OpenAI can generate and explain code in the chat playground.\n",
    "\n",
    "In the Azure OpenAI Studio at https://oai.azure.com, in the Playground section, select the Chat page. The Chat playground page consists of three main sections:\n",
    "- Setup - used to set the context for the model’s responses.\n",
    "- Chat session - used to submit chat messages and view responses.\n",
    "- Configuration - used to configure settings for the model deployment.\n",
    "\n",
    "- In the Configuration section, ensure that your model deployment is selected.\n",
    "- In the Setup area, set the system message to `You are a programming assistant helping write code` and apply the changes."
   ]
  },
  {
   "cell_type": "markdown",
   "metadata": {},
   "source": [
    "In the Chat session, submit the following query:\n",
    "\n",
    "```sh\n",
    " Write a function in python that takes a character and a string as input, and returns how many times the character appears in the string\n",
    "```"
   ]
  },
  {
   "cell_type": "code",
   "execution_count": 1,
   "metadata": {},
   "outputs": [],
   "source": [
    "def count_char(char, string):  \n",
    "    count = 0  \n",
    "    for c in string:  \n",
    "        if c == char:  \n",
    "            count += 1  \n",
    "    return count  "
   ]
  },
  {
   "cell_type": "markdown",
   "metadata": {},
   "source": [
    "This function takes two arguments: \n",
    "- `char` (the character we're counting) and\n",
    "- `string` (the string we're searching in).\n",
    "\n",
    "It uses a `for loop` to iterate over every character in the string, and checks if each character is equal to the given character. If it is, it increments the count variable. Finally, the function returns the total count of occurrences of the character in the string."
   ]
  },
  {
   "cell_type": "code",
   "execution_count": 2,
   "metadata": {},
   "outputs": [
    {
     "data": {
      "text/plain": [
       "1"
      ]
     },
     "execution_count": 2,
     "metadata": {},
     "output_type": "execute_result"
    }
   ],
   "source": [
    "count_char(\"a\", \"apple\")"
   ]
  },
  {
   "cell_type": "code",
   "execution_count": 3,
   "metadata": {},
   "outputs": [
    {
     "data": {
      "text/plain": [
       "2"
      ]
     },
     "execution_count": 3,
     "metadata": {},
     "output_type": "execute_result"
    }
   ],
   "source": [
    "count_char(\"p\", \"apple\")"
   ]
  },
  {
   "cell_type": "markdown",
   "metadata": {},
   "source": [
    "**User**: Add some comments to the function.\n",
    "\n",
    "**Assistant** : Sure, here's the same function with comments added to explain what each part does:"
   ]
  },
  {
   "cell_type": "code",
   "execution_count": 4,
   "metadata": {},
   "outputs": [],
   "source": [
    "def count_char(char, string):  \n",
    "    # Initialize a counter variable to keep track of the number of times the character appears  \n",
    "    count = 0  \n",
    "      \n",
    "    # Iterate over each character in the string  \n",
    "    for c in string:  \n",
    "        # If the current character is equal to the given character, increment the counter  \n",
    "        if c == char:  \n",
    "            count += 1  \n",
    "      \n",
    "    # Return the total count of occurrences of the character in the string  \n",
    "    return count  \n"
   ]
  },
  {
   "cell_type": "markdown",
   "metadata": {},
   "source": [
    "**User**: add typing to the function.\n",
    "\n",
    "**Assistant** : Sure, here's the updated function with type hints added:"
   ]
  },
  {
   "cell_type": "code",
   "execution_count": 5,
   "metadata": {},
   "outputs": [],
   "source": [
    "def count_char(char: str, string: str) -> int:  \n",
    "    # Initialize a counter variable to keep track of the number of times the character appears  \n",
    "    count = 0  \n",
    "      \n",
    "    # Iterate over each character in the string  \n",
    "    for c in string:  \n",
    "        # If the current character is equal to the given character, increment the counter  \n",
    "        if c == char:  \n",
    "            count += 1  \n",
    "      \n",
    "    # Return the total count of occurrences of the character in the string  \n",
    "    return count  \n"
   ]
  },
  {
   "cell_type": "markdown",
   "metadata": {},
   "source": [
    "This adds type hints to the function, indicating that the char and string parameters are both strings, and that the function returns an integer (int). Adding type hints can help make your code more readable and easier to understand, especially when working with larger codebases or collaborating with other developers."
   ]
  },
  {
   "cell_type": "markdown",
   "metadata": {},
   "source": [
    "**User**: add docstring to the function.\n",
    "\n",
    "**Assistant** : Certainly! Here's the function with a docstring added:"
   ]
  },
  {
   "cell_type": "code",
   "execution_count": 6,
   "metadata": {},
   "outputs": [],
   "source": [
    "def count_char(char: str, string: str) -> int:  \n",
    "    \"\"\"  \n",
    "    Counts the number of times a character appears in a string.  \n",
    "      \n",
    "    Args:  \n",
    "        char (str): The character to count.  \n",
    "        string (str): The string to search for the character.  \n",
    "      \n",
    "    Returns:  \n",
    "        int: The number of times the character appears in the string.  \n",
    "    \"\"\"  \n",
    "    # Initialize a counter variable to keep track of the number of times the character appears  \n",
    "    count = 0  \n",
    "      \n",
    "    # Iterate over each character in the string  \n",
    "    for c in string:  \n",
    "        # If the current character is equal to the given character, increment the counter  \n",
    "        if c == char:  \n",
    "            count += 1  \n",
    "      \n",
    "    # Return the total count of occurrences of the character in the string  \n",
    "    return count  \n"
   ]
  },
  {
   "cell_type": "markdown",
   "metadata": {},
   "source": [
    "The docstring is a multi-line string that describes what the function does, what arguments it takes, and what it returns. It's used to document your code and provide information to other developers who might use your function."
   ]
  },
  {
   "cell_type": "code",
   "execution_count": null,
   "metadata": {},
   "outputs": [],
   "source": []
  },
  {
   "cell_type": "markdown",
   "metadata": {},
   "source": [
    "## (.venv) ➜  Python git:(main) ✗ python code-generation.py\n",
    "\n",
    "1: Add comments to my function\n",
    "2: Write unit tests for my function\n",
    "3: Fix my Go Fish game\n",
    "\"quit\" to exit the program\n",
    "\n",
    "\n",
    "- Choose option 1 to `add comments` to your code and enter the following prompt. Note, the response might take a few seconds for each of these tasks.\n",
    "```sh\n",
    "`Prompt` : Add comments to the following function. Return only the commented code.\\n---\\n\n",
    "```\n",
    "\n",
    "- Next, choose option 2 to write unit tests for that same function and enter the following prompt.\n",
    "```sh\n",
    "`Prompt` :  Write four unit tests for the following function.\\n---\\n\n",
    "```\n",
    "\n",
    "- Next, choose option 3 to fix bugs in an app for playing Go Fish. Enter the following prompt.\n",
    "```sh\n",
    "`Prompt` :  Fix the code below for an app to play Go Fish with the user. Return only the corrected code.\\n---\\n\n",
    "```"
   ]
  },
  {
   "cell_type": "code",
   "execution_count": 9,
   "metadata": {},
   "outputs": [],
   "source": [
    "# Prompt : Add comments to the following function. Return only the commented code.\\n---\\n\n",
    "\n",
    "\"\"\"\n",
    "This function calculates the absolute square of the difference between two numbers.\n",
    "It takes two arguments, num1 and num2.\n",
    "\"\"\"\n",
    "def absolute_square(num1, num2):\n",
    "    # Calculate the absolute difference between num1 and num2 and store it in the variable result.\n",
    "    result = abs(num1 - num2)\n",
    "    # Calculate the square of result and update the value of result.\n",
    "    result *= result\n",
    "    # Return the value of result as the output of the function.\n",
    "    return result\n",
    "\n",
    "\n",
    "# Prompt : \n",
    "\"\"\"\n",
    "Sure, here are four unit tests for the `absolute_square` function:\n",
    "\"\"\"\n",
    "# 1. Test that `absolute_square(5, 3)` returns 4.\n",
    "assert absolute_square(5, 3) == 4\n",
    "\n",
    "# 2. Test that `absolute_square(-5, 3)` returns 64.\n",
    "assert absolute_square(-5, 3) == 64\n",
    "\n",
    "\n",
    "# 3. Test that `absolute_square(0, 0)` returns 0.\n",
    "assert absolute_square(0, 0) == 0\n",
    "\n",
    "\n",
    "# 4. Test that `absolute_square(2.5, 6.75)` returns 18.0625.\n",
    "assert absolute_square(2.5, 6.75) == 18.0625\n"
   ]
  },
  {
   "cell_type": "code",
   "execution_count": null,
   "metadata": {},
   "outputs": [],
   "source": []
  },
  {
   "cell_type": "code",
   "execution_count": 10,
   "metadata": {},
   "outputs": [
    {
     "name": "stdout",
     "output_type": "stream",
     "text": [
      "Your hand: ['5', 'J', '7', '2', 'J']\n"
     ]
    },
    {
     "name": "stdin",
     "output_type": "stream",
     "text": [
      "Do you have any...  5\n"
     ]
    },
    {
     "name": "stdout",
     "output_type": "stream",
     "text": [
      "You got a point!\n",
      "Your score: 1\n",
      "Do you have any 5 ?\n",
      "The computer goes fishing!\n",
      "The computer drew a 9\n",
      "Your hand: ['J', '7', '2', 'J']\n"
     ]
    },
    {
     "name": "stdin",
     "output_type": "stream",
     "text": [
      "Do you have any...  J\n"
     ]
    },
    {
     "name": "stdout",
     "output_type": "stream",
     "text": [
      "You got a point!\n",
      "Your score: 2\n",
      "Do you have any 5 ?\n",
      "The computer goes fishing!\n",
      "The computer drew a 3\n",
      "Your hand: ['7', '2', 'J']\n"
     ]
    },
    {
     "ename": "KeyboardInterrupt",
     "evalue": "Interrupted by user",
     "output_type": "error",
     "traceback": [
      "\u001b[0;31m---------------------------------------------------------------------------\u001b[0m",
      "\u001b[0;31mKeyboardInterrupt\u001b[0m                         Traceback (most recent call last)",
      "Cell \u001b[0;32mIn[10], line 27\u001b[0m\n\u001b[1;32m     24\u001b[0m \u001b[38;5;28mprint\u001b[39m(\u001b[38;5;124m\"\u001b[39m\u001b[38;5;124mYour hand:\u001b[39m\u001b[38;5;124m\"\u001b[39m, player_hand)\n\u001b[1;32m     26\u001b[0m \u001b[38;5;66;03m# Ask the player for a card\u001b[39;00m\n\u001b[0;32m---> 27\u001b[0m card \u001b[38;5;241m=\u001b[39m \u001b[38;5;28;43minput\u001b[39;49m\u001b[43m(\u001b[49m\u001b[38;5;124;43m\"\u001b[39;49m\u001b[38;5;124;43mDo you have any... \u001b[39;49m\u001b[38;5;124;43m\"\u001b[39;49m\u001b[43m)\u001b[49m\n\u001b[1;32m     29\u001b[0m \u001b[38;5;66;03m# Check if the player has the card\u001b[39;00m\n\u001b[1;32m     30\u001b[0m \u001b[38;5;28;01mif\u001b[39;00m card \u001b[38;5;129;01min\u001b[39;00m player_hand:\n\u001b[1;32m     31\u001b[0m     \u001b[38;5;66;03m# Remove the card from the player's hand\u001b[39;00m\n",
      "File \u001b[0;32m~/.local/lib/python3.10/site-packages/ipykernel/kernelbase.py:1282\u001b[0m, in \u001b[0;36mKernel.raw_input\u001b[0;34m(self, prompt)\u001b[0m\n\u001b[1;32m   1280\u001b[0m     msg \u001b[38;5;241m=\u001b[39m \u001b[38;5;124m\"\u001b[39m\u001b[38;5;124mraw_input was called, but this frontend does not support input requests.\u001b[39m\u001b[38;5;124m\"\u001b[39m\n\u001b[1;32m   1281\u001b[0m     \u001b[38;5;28;01mraise\u001b[39;00m StdinNotImplementedError(msg)\n\u001b[0;32m-> 1282\u001b[0m \u001b[38;5;28;01mreturn\u001b[39;00m \u001b[38;5;28;43mself\u001b[39;49m\u001b[38;5;241;43m.\u001b[39;49m\u001b[43m_input_request\u001b[49m\u001b[43m(\u001b[49m\n\u001b[1;32m   1283\u001b[0m \u001b[43m    \u001b[49m\u001b[38;5;28;43mstr\u001b[39;49m\u001b[43m(\u001b[49m\u001b[43mprompt\u001b[49m\u001b[43m)\u001b[49m\u001b[43m,\u001b[49m\n\u001b[1;32m   1284\u001b[0m \u001b[43m    \u001b[49m\u001b[38;5;28;43mself\u001b[39;49m\u001b[38;5;241;43m.\u001b[39;49m\u001b[43m_parent_ident\u001b[49m\u001b[43m[\u001b[49m\u001b[38;5;124;43m\"\u001b[39;49m\u001b[38;5;124;43mshell\u001b[39;49m\u001b[38;5;124;43m\"\u001b[39;49m\u001b[43m]\u001b[49m\u001b[43m,\u001b[49m\n\u001b[1;32m   1285\u001b[0m \u001b[43m    \u001b[49m\u001b[38;5;28;43mself\u001b[39;49m\u001b[38;5;241;43m.\u001b[39;49m\u001b[43mget_parent\u001b[49m\u001b[43m(\u001b[49m\u001b[38;5;124;43m\"\u001b[39;49m\u001b[38;5;124;43mshell\u001b[39;49m\u001b[38;5;124;43m\"\u001b[39;49m\u001b[43m)\u001b[49m\u001b[43m,\u001b[49m\n\u001b[1;32m   1286\u001b[0m \u001b[43m    \u001b[49m\u001b[43mpassword\u001b[49m\u001b[38;5;241;43m=\u001b[39;49m\u001b[38;5;28;43;01mFalse\u001b[39;49;00m\u001b[43m,\u001b[49m\n\u001b[1;32m   1287\u001b[0m \u001b[43m\u001b[49m\u001b[43m)\u001b[49m\n",
      "File \u001b[0;32m~/.local/lib/python3.10/site-packages/ipykernel/kernelbase.py:1325\u001b[0m, in \u001b[0;36mKernel._input_request\u001b[0;34m(self, prompt, ident, parent, password)\u001b[0m\n\u001b[1;32m   1322\u001b[0m \u001b[38;5;28;01mexcept\u001b[39;00m \u001b[38;5;167;01mKeyboardInterrupt\u001b[39;00m:\n\u001b[1;32m   1323\u001b[0m     \u001b[38;5;66;03m# re-raise KeyboardInterrupt, to truncate traceback\u001b[39;00m\n\u001b[1;32m   1324\u001b[0m     msg \u001b[38;5;241m=\u001b[39m \u001b[38;5;124m\"\u001b[39m\u001b[38;5;124mInterrupted by user\u001b[39m\u001b[38;5;124m\"\u001b[39m\n\u001b[0;32m-> 1325\u001b[0m     \u001b[38;5;28;01mraise\u001b[39;00m \u001b[38;5;167;01mKeyboardInterrupt\u001b[39;00m(msg) \u001b[38;5;28;01mfrom\u001b[39;00m \u001b[38;5;28;01mNone\u001b[39;00m\n\u001b[1;32m   1326\u001b[0m \u001b[38;5;28;01mexcept\u001b[39;00m \u001b[38;5;167;01mException\u001b[39;00m:\n\u001b[1;32m   1327\u001b[0m     \u001b[38;5;28mself\u001b[39m\u001b[38;5;241m.\u001b[39mlog\u001b[38;5;241m.\u001b[39mwarning(\u001b[38;5;124m\"\u001b[39m\u001b[38;5;124mInvalid Message:\u001b[39m\u001b[38;5;124m\"\u001b[39m, exc_info\u001b[38;5;241m=\u001b[39m\u001b[38;5;28;01mTrue\u001b[39;00m)\n",
      "\u001b[0;31mKeyboardInterrupt\u001b[0m: Interrupted by user"
     ]
    }
   ],
   "source": [
    "\"\"\"\n",
    "Fix the code below for an app to play Go Fish with the user. Return only the corrected code.\\n---\\n\n",
    "\"\"\"\n",
    "\n",
    "import random\n",
    "\n",
    "# Define the deck of cards\n",
    "deck = ['A', '2', '3', '4', '5', '6', '7', '8', '9', '10', 'J', 'Q', 'K'] * 4\n",
    "\n",
    "# Shuffle the deck\n",
    "random.shuffle(deck)\n",
    "\n",
    "# Deal the cards\n",
    "player_hand = deck[:5]\n",
    "computer_hand = deck[5:10]\n",
    "\n",
    "# Define the initial score\n",
    "player_score = 0\n",
    "computer_score = 0\n",
    "\n",
    "# Define the main game loop\n",
    "while len(deck) > 0:\n",
    "    # Print the player's hand\n",
    "    print(\"Your hand:\", player_hand)\n",
    "\n",
    "    # Ask the player for a card\n",
    "    card = input(\"Do you have any... \")\n",
    "\n",
    "    # Check if the player has the card\n",
    "    if card in player_hand:\n",
    "        # Remove the card from the player's hand\n",
    "        player_hand.remove(card)\n",
    "\n",
    "        # Add a point to the player's score\n",
    "        player_score += 1\n",
    "\n",
    "        # Print the player's score\n",
    "        print(\"You got a point!\")\n",
    "        print(\"Your score:\", player_score)\n",
    "    else:\n",
    "        # Go fish!\n",
    "        print(\"Go fish!\")\n",
    "\n",
    "        # Draw a card from the deck\n",
    "        card = deck.pop()\n",
    "\n",
    "        # Add the card to the player's hand\n",
    "        player_hand.append(card)\n",
    "\n",
    "        # Print the card that was drawn\n",
    "        print(\"You drew a\", card)\n",
    "\n",
    "    # Check if the player has won\n",
    "    if player_score == 5:\n",
    "        print(\"You win!\")\n",
    "        break\n",
    "\n",
    "    # Computer's turn\n",
    "    card = random.choice(computer_hand)\n",
    "    print(\"Do you have any\", card, \"?\")\n",
    "    if card in player_hand:\n",
    "        # Remove the card from the player's hand\n",
    "        player_hand.remove(card)\n",
    "\n",
    "        # Add a point to the computer's score\n",
    "        computer_score += 1\n",
    "\n",
    "        # Print the computer's score\n",
    "        print(\"The computer got a point!\")\n",
    "        print(\"Computer score:\", computer_score)\n",
    "    else:\n",
    "        # Go fish!\n",
    "        print(\"The computer goes fishing!\")\n",
    "\n",
    "        # Draw a card from the deck\n",
    "        card = deck.pop()\n",
    "\n",
    "        # Add the card to the computer's hand\n",
    "        computer_hand.append(card)\n",
    "\n",
    "        # Print the card that was drawn\n",
    "        print(\"The computer drew a\", card)\n",
    "\n",
    "    # Check if the computer has won\n",
    "    if computer_score == 5:\n",
    "        print(\"The computer wins!\")\n",
    "        break"
   ]
  },
  {
   "cell_type": "code",
   "execution_count": null,
   "metadata": {},
   "outputs": [],
   "source": []
  }
 ],
 "metadata": {
  "kernelspec": {
   "display_name": "Python 3 (ipykernel)",
   "language": "python",
   "name": "python3"
  },
  "language_info": {
   "codemirror_mode": {
    "name": "ipython",
    "version": 3
   },
   "file_extension": ".py",
   "mimetype": "text/x-python",
   "name": "python",
   "nbconvert_exporter": "python",
   "pygments_lexer": "ipython3",
   "version": "3.10.13"
  }
 },
 "nbformat": 4,
 "nbformat_minor": 4
}
