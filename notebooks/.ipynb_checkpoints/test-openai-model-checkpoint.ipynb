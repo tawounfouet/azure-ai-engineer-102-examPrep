{
 "cells": [
  {
   "cell_type": "code",
   "execution_count": 5,
   "metadata": {},
   "outputs": [],
   "source": [
    "#!pip install openai==1.13.3\n",
    "#!pip install python-dotenv"
   ]
  },
  {
   "cell_type": "code",
   "execution_count": 6,
   "metadata": {},
   "outputs": [],
   "source": [
    "import os\n",
    "from dotenv import load_dotenv\n",
    "\n",
    "# Add Azure OpenAI package\n",
    "from openai import AzureOpenAI"
   ]
  },
  {
   "cell_type": "code",
   "execution_count": 17,
   "metadata": {},
   "outputs": [],
   "source": [
    "\"\"\"\n",
    "Chaque appel au service Azure OpenAI nécessite \n",
    "    - un point de terminaison\n",
    "    - une clé, \n",
    "    - un nom de déploiement.\n",
    "\"\"\"\n",
    "\n",
    "\n",
    "AZURE_OAI_ENDPOINT=\"https://divalt-openai-001.openai.azure.com/\"\n",
    "AZURE_OAI_KEY=\"your-openai-key\"\n",
    "AZURE_OAI_DEPLOYMENT=\"divalt-gpt-model\""
   ]
  },
  {
   "cell_type": "code",
   "execution_count": 16,
   "metadata": {},
   "outputs": [
    {
     "name": "stdin",
     "output_type": "stream",
     "text": [
      "Enter your OpenAI Azure API Endpoint:  https://divalt-openai-001.openai.azure.com/\n",
      "Enter your Azure OpenAI  Key:  ········\n",
      "Enter your model deployment name:  divalt-gpt-model\n"
     ]
    }
   ],
   "source": [
    "import os\n",
    "from getpass import getpass\n",
    "\n",
    "\n",
    "# Enter your settings for Astra DB and OpenAI:\n",
    "os.environ[\"AZURE_OAI_ENDPOINT\"] = input(\"Enter your OpenAI Azure API Endpoint: \")\n",
    "os.environ[\"AZURE_OAI_KEY\"] = getpass(\"Enter your Azure OpenAI  Key: \")\n",
    "os.environ[\"AZURE_OAI_DEPLOYMENT\"] = input(\"Enter your model deployment name: \")"
   ]
  },
  {
   "cell_type": "code",
   "execution_count": 18,
   "metadata": {},
   "outputs": [],
   "source": [
    "# Get configuration settings \n",
    "load_dotenv()\n",
    "azure_oai_endpoint = os.getenv(\"AZURE_OAI_ENDPOINT\")\n",
    "azure_oai_key = os.getenv(\"AZURE_OAI_KEY\")\n",
    "azure_oai_deployment = os.getenv(\"AZURE_OAI_DEPLOYMENT\")"
   ]
  },
  {
   "cell_type": "code",
   "execution_count": 26,
   "metadata": {},
   "outputs": [
    {
     "data": {
      "text/plain": [
       "<openai.lib.azure.AzureOpenAI at 0x78af69b87e50>"
      ]
     },
     "execution_count": 26,
     "metadata": {},
     "output_type": "execute_result"
    }
   ],
   "source": [
    "# Initialize the Azure OpenAI client...\n",
    "client = AzureOpenAI(\n",
    "            azure_endpoint = azure_oai_endpoint, \n",
    "            api_key=azure_oai_key,  \n",
    "            api_version=\"2024-02-15-preview\"\n",
    "        )\n",
    "\n",
    "client"
   ]
  },
  {
   "cell_type": "code",
   "execution_count": 23,
   "metadata": {},
   "outputs": [
    {
     "name": "stdout",
     "output_type": "stream",
     "text": [
      "\n",
      "I am a running enthusiast named LeGuerrierBantou2.0 who helps people unleash their full potential in this area. \n",
      "If no area is specified, I will default to near Stade de France. \n",
      "I will then provide three suggestions for nearby run that vary in length. \n",
      "I will also share an interesting fact about the local nature on the running when making a recommendation.\n",
      "\n"
     ]
    }
   ],
   "source": [
    "# Create a system message\n",
    "system_message = \"\"\"\n",
    "I am a running enthusiast named LeGuerrierBantou2.0 who helps people unleash their full potential in this area. \n",
    "If no area is specified, I will default to near Stade de France. \n",
    "I will then provide three suggestions for nearby run that vary in length. \n",
    "I will also share an interesting fact about the local nature on the running when making a recommendation.\n",
    "\"\"\"\n",
    "\n",
    "print(system_message)"
   ]
  },
  {
   "cell_type": "code",
   "execution_count": 36,
   "metadata": {},
   "outputs": [
    {
     "name": "stdin",
     "output_type": "stream",
     "text": [
      "Enter a number 0\n"
     ]
    }
   ],
   "source": [
    "while True:\n",
    "    # get an input\n",
    "    input_number = input(\"Enter a number\")\n",
    "    if int(input_number) == 0:\n",
    "        break\n",
    "    if int(input_number) < 9:\n",
    "        print(\"Great choice\", input_number)\n",
    "        #print(\"Enter another number between 1 and 9\")\n",
    "        continue\n",
    "    else:\n",
    "        print(\"The number must be between 0 and 9\")"
   ]
  },
  {
   "cell_type": "code",
   "execution_count": 38,
   "metadata": {},
   "outputs": [
    {
     "name": "stdin",
     "output_type": "stream",
     "text": [
      "Enter the prompt (or type 'quit' to exit):  Hello world\n"
     ]
    },
    {
     "name": "stdout",
     "output_type": "stream",
     "text": [
      "\n",
      "Chatbot Answering...\n",
      "\n",
      "\n"
     ]
    },
    {
     "name": "stdin",
     "output_type": "stream",
     "text": [
      "Enter the prompt (or type 'quit' to exit):  How are you doing ?\n"
     ]
    },
    {
     "name": "stdout",
     "output_type": "stream",
     "text": [
      "\n",
      "Chatbot Answering...\n",
      "\n",
      "\n"
     ]
    },
    {
     "name": "stdin",
     "output_type": "stream",
     "text": [
      "Enter the prompt (or type 'quit' to exit):  quit\n"
     ]
    }
   ],
   "source": [
    "while True:\n",
    "    # Get input text\n",
    "    input_text = input(\"Enter the prompt (or type 'quit' to exit): \")\n",
    "    if input_text.lower() == \"quit\":\n",
    "        break\n",
    "    if len(input_text) == 0:\n",
    "        print(\"Please enter a prompt.\")\n",
    "        continue\n",
    "\n",
    "    #print(\"\\nSending request for summary to Azure OpenAI endpoint...\\n\\n\")\n",
    "    print(\"\\nChatbot Answering...\\n\\n\")        "
   ]
  },
  {
   "cell_type": "code",
   "execution_count": 55,
   "metadata": {},
   "outputs": [
    {
     "name": "stdin",
     "output_type": "stream",
     "text": [
      "Enter the prompt (or type 'quit' to exit):  Hey chat, give me some advices on how you can guide me\n"
     ]
    },
    {
     "name": "stdout",
     "output_type": "stream",
     "text": [
      "hey chat, give me some advices on how you can guide me\n"
     ]
    }
   ],
   "source": [
    "# Get input text\n",
    "input_text = input(\"Enter the prompt (or type 'quit' to exit): \")\n",
    "print(input_text.lower())"
   ]
  },
  {
   "cell_type": "code",
   "execution_count": 57,
   "metadata": {},
   "outputs": [
    {
     "name": "stdout",
     "output_type": "stream",
     "text": [
      "\n",
      "I am a running enthusiast named LeGuerrierBantou2.0 who helps people unleash their full potential in this area. \n",
      "If no area is specified, I will default to near Stade de France. \n",
      "I will then provide three suggestions for nearby run that vary in length. \n",
      "I will also share an interesting fact about the local nature on the running when making a recommendation.\n",
      "\n"
     ]
    }
   ],
   "source": [
    "print(system_message)"
   ]
  },
  {
   "cell_type": "code",
   "execution_count": 56,
   "metadata": {},
   "outputs": [
    {
     "name": "stdout",
     "output_type": "stream",
     "text": [
      "Hey chat, give me some advices on how you can guide me\n"
     ]
    }
   ],
   "source": [
    "print(input_text)"
   ]
  },
  {
   "cell_type": "code",
   "execution_count": 58,
   "metadata": {},
   "outputs": [
    {
     "data": {
      "text/plain": [
       "ChatCompletion(id='chatcmpl-9WpZ7JPmd2j9zmS9lFS3ynrdJqrvA', choices=[Choice(finish_reason='stop', index=0, logprobs=None, message=ChatCompletionMessage(content='Sure! To help guide you, I would need to know your level of running experience and your preferred distance for a run. Also, if you have a specific location in mind or if you would like me to suggest a nearby area, that would be helpful as well.', role='assistant', function_call=None, tool_calls=None), content_filter_results={'hate': {'filtered': False, 'severity': 'safe'}, 'self_harm': {'filtered': False, 'severity': 'safe'}, 'sexual': {'filtered': False, 'severity': 'safe'}, 'violence': {'filtered': False, 'severity': 'safe'}})], created=1717611741, model='gpt-35-turbo', object='chat.completion', system_fingerprint=None, usage=CompletionUsage(completion_tokens=54, prompt_tokens=107, total_tokens=161), prompt_filter_results=[{'prompt_index': 0, 'content_filter_results': {'hate': {'filtered': False, 'severity': 'safe'}, 'self_harm': {'filtered': False, 'severity': 'safe'}, 'sexual': {'filtered': False, 'severity': 'safe'}, 'violence': {'filtered': False, 'severity': 'safe'}}}])"
      ]
     },
     "execution_count": 58,
     "metadata": {},
     "output_type": "execute_result"
    }
   ],
   "source": [
    "# Send request to Azure OpenAI model\n",
    "response = client.chat.completions.create(\n",
    "                model=azure_oai_deployment,\n",
    "                temperature=0.7,\n",
    "                max_tokens=400,\n",
    "                messages=[\n",
    "                    {\"role\": \"system\", \"content\": system_message},\n",
    "                    {\"role\": \"user\", \"content\": input_text}\n",
    "                ]\n",
    "            )\n",
    "\n",
    "response"
   ]
  },
  {
   "cell_type": "code",
   "execution_count": 45,
   "metadata": {},
   "outputs": [],
   "source": [
    "# !pip install pprint"
   ]
  },
  {
   "cell_type": "code",
   "execution_count": 46,
   "metadata": {},
   "outputs": [],
   "source": [
    "#import pprint\n",
    "#pprint.pprint(response)"
   ]
  },
  {
   "cell_type": "code",
   "execution_count": 59,
   "metadata": {},
   "outputs": [
    {
     "name": "stdout",
     "output_type": "stream",
     "text": [
      "('id', 'chatcmpl-9WpZ7JPmd2j9zmS9lFS3ynrdJqrvA')\n",
      "('choices', [Choice(finish_reason='stop', index=0, logprobs=None, message=ChatCompletionMessage(content='Sure! To help guide you, I would need to know your level of running experience and your preferred distance for a run. Also, if you have a specific location in mind or if you would like me to suggest a nearby area, that would be helpful as well.', role='assistant', function_call=None, tool_calls=None), content_filter_results={'hate': {'filtered': False, 'severity': 'safe'}, 'self_harm': {'filtered': False, 'severity': 'safe'}, 'sexual': {'filtered': False, 'severity': 'safe'}, 'violence': {'filtered': False, 'severity': 'safe'}})])\n",
      "('created', 1717611741)\n",
      "('model', 'gpt-35-turbo')\n",
      "('object', 'chat.completion')\n",
      "('system_fingerprint', None)\n",
      "('usage', CompletionUsage(completion_tokens=54, prompt_tokens=107, total_tokens=161))\n",
      "('prompt_filter_results', [{'prompt_index': 0, 'content_filter_results': {'hate': {'filtered': False, 'severity': 'safe'}, 'self_harm': {'filtered': False, 'severity': 'safe'}, 'sexual': {'filtered': False, 'severity': 'safe'}, 'violence': {'filtered': False, 'severity': 'safe'}}}])\n"
     ]
    }
   ],
   "source": [
    "for i in response:\n",
    "    print(i)"
   ]
  },
  {
   "cell_type": "code",
   "execution_count": 53,
   "metadata": {},
   "outputs": [
    {
     "data": {
      "text/plain": [
       "'chatcmpl-9WpSAwCndRckIzckNgk6u4MKinn3K'"
      ]
     },
     "execution_count": 53,
     "metadata": {},
     "output_type": "execute_result"
    }
   ],
   "source": [
    "response.id"
   ]
  },
  {
   "cell_type": "code",
   "execution_count": 62,
   "metadata": {},
   "outputs": [
    {
     "data": {
      "text/plain": [
       "1"
      ]
     },
     "execution_count": 62,
     "metadata": {},
     "output_type": "execute_result"
    }
   ],
   "source": [
    "len(response.choices)"
   ]
  },
  {
   "cell_type": "markdown",
   "metadata": {},
   "source": [
    "**response.choices[0]**"
   ]
  },
  {
   "cell_type": "code",
   "execution_count": 63,
   "metadata": {},
   "outputs": [
    {
     "data": {
      "text/plain": [
       "Choice(finish_reason='stop', index=0, logprobs=None, message=ChatCompletionMessage(content='Sure! To help guide you, I would need to know your level of running experience and your preferred distance for a run. Also, if you have a specific location in mind or if you would like me to suggest a nearby area, that would be helpful as well.', role='assistant', function_call=None, tool_calls=None), content_filter_results={'hate': {'filtered': False, 'severity': 'safe'}, 'self_harm': {'filtered': False, 'severity': 'safe'}, 'sexual': {'filtered': False, 'severity': 'safe'}, 'violence': {'filtered': False, 'severity': 'safe'}})"
      ]
     },
     "execution_count": 63,
     "metadata": {},
     "output_type": "execute_result"
    }
   ],
   "source": [
    "#response\n",
    "response.choices[0]"
   ]
  },
  {
   "cell_type": "code",
   "execution_count": 73,
   "metadata": {},
   "outputs": [
    {
     "data": {
      "text/plain": [
       "openai.types.chat.chat_completion.Choice"
      ]
     },
     "execution_count": 73,
     "metadata": {},
     "output_type": "execute_result"
    }
   ],
   "source": [
    "type(response.choices[0])"
   ]
  },
  {
   "cell_type": "code",
   "execution_count": 74,
   "metadata": {},
   "outputs": [
    {
     "data": {
      "text/plain": [
       "'stop'"
      ]
     },
     "execution_count": 74,
     "metadata": {},
     "output_type": "execute_result"
    }
   ],
   "source": [
    "response.choices[0].finish_reason"
   ]
  },
  {
   "cell_type": "code",
   "execution_count": 75,
   "metadata": {},
   "outputs": [
    {
     "data": {
      "text/plain": [
       "0"
      ]
     },
     "execution_count": 75,
     "metadata": {},
     "output_type": "execute_result"
    }
   ],
   "source": [
    "response.choices[0].index"
   ]
  },
  {
   "cell_type": "markdown",
   "metadata": {},
   "source": [
    "**response.choices[0].message**"
   ]
  },
  {
   "cell_type": "code",
   "execution_count": 76,
   "metadata": {},
   "outputs": [
    {
     "data": {
      "text/plain": [
       "ChatCompletionMessage(content='Sure! To help guide you, I would need to know your level of running experience and your preferred distance for a run. Also, if you have a specific location in mind or if you would like me to suggest a nearby area, that would be helpful as well.', role='assistant', function_call=None, tool_calls=None)"
      ]
     },
     "execution_count": 76,
     "metadata": {},
     "output_type": "execute_result"
    }
   ],
   "source": [
    "response.choices[0].message"
   ]
  },
  {
   "cell_type": "code",
   "execution_count": 77,
   "metadata": {},
   "outputs": [
    {
     "data": {
      "text/plain": [
       "openai.types.chat.chat_completion_message.ChatCompletionMessage"
      ]
     },
     "execution_count": 77,
     "metadata": {},
     "output_type": "execute_result"
    }
   ],
   "source": [
    "type(response.choices[0].message)"
   ]
  },
  {
   "cell_type": "code",
   "execution_count": 78,
   "metadata": {},
   "outputs": [
    {
     "data": {
      "text/plain": [
       "'Sure! To help guide you, I would need to know your level of running experience and your preferred distance for a run. Also, if you have a specific location in mind or if you would like me to suggest a nearby area, that would be helpful as well.'"
      ]
     },
     "execution_count": 78,
     "metadata": {},
     "output_type": "execute_result"
    }
   ],
   "source": [
    "response.choices[0].message.content"
   ]
  },
  {
   "cell_type": "code",
   "execution_count": 79,
   "metadata": {},
   "outputs": [
    {
     "data": {
      "text/plain": [
       "'assistant'"
      ]
     },
     "execution_count": 79,
     "metadata": {},
     "output_type": "execute_result"
    }
   ],
   "source": [
    "response.choices[0].message.role"
   ]
  },
  {
   "cell_type": "code",
   "execution_count": 80,
   "metadata": {},
   "outputs": [],
   "source": [
    "response.choices[0].message.function_call"
   ]
  },
  {
   "cell_type": "code",
   "execution_count": 81,
   "metadata": {},
   "outputs": [],
   "source": [
    "response.choices[0].message.tool_calls"
   ]
  },
  {
   "cell_type": "code",
   "execution_count": 82,
   "metadata": {},
   "outputs": [
    {
     "name": "stdout",
     "output_type": "stream",
     "text": [
      "Sure! To help guide you, I would need to know your level of running experience and your preferred distance for a run. Also, if you have a specific location in mind or if you would like me to suggest a nearby area, that would be helpful as well.\n"
     ]
    }
   ],
   "source": [
    "generated_text = response.choices[0].message.content\n",
    "print(generated_text)"
   ]
  },
  {
   "cell_type": "code",
   "execution_count": 83,
   "metadata": {},
   "outputs": [
    {
     "name": "stdout",
     "output_type": "stream",
     "text": [
      "Response: Sure! To help guide you, I would need to know your level of running experience and your preferred distance for a run. Also, if you have a specific location in mind or if you would like me to suggest a nearby area, that would be helpful as well.\n",
      "\n"
     ]
    }
   ],
   "source": [
    " # Print the response\n",
    "\n",
    "print(\"Response: \" + generated_text + \"\\n\")"
   ]
  },
  {
   "cell_type": "code",
   "execution_count": null,
   "metadata": {},
   "outputs": [],
   "source": []
  },
  {
   "cell_type": "code",
   "execution_count": 84,
   "metadata": {},
   "outputs": [],
   "source": [
    "import os\n",
    "from dotenv import load_dotenv\n",
    "\n",
    "# Add Azure OpenAI package\n",
    "from openai import AzureOpenAI\n",
    "\n",
    "def main(): \n",
    "        \n",
    "    try: \n",
    "    \n",
    "        # Get configuration settings \n",
    "        load_dotenv()\n",
    "        azure_oai_endpoint = os.getenv(\"AZURE_OAI_ENDPOINT\")\n",
    "        azure_oai_key = os.getenv(\"AZURE_OAI_KEY\")\n",
    "        azure_oai_deployment = os.getenv(\"AZURE_OAI_DEPLOYMENT\")\n",
    "\n",
    "        \n",
    "        # Initialize the Azure OpenAI client...\n",
    "        client = AzureOpenAI(\n",
    "                azure_endpoint = azure_oai_endpoint, \n",
    "                api_key=azure_oai_key,  \n",
    "                api_version=\"2024-02-15-preview\"\n",
    "                )\n",
    "            \n",
    "        # Create a system message\n",
    "        system_message = \"\"\"I am a running enthusiast named LeGuerrierBantou2.0 who helps people unleash their full potential in this area. \n",
    "            If no area is specified, I will default to near Stade de France. \n",
    "            I will then provide three suggestions for nearby run that vary in length. \n",
    "            I will also share an interesting fact about the local nature on the running when making a recommendation.\n",
    "            \"\"\"\n",
    "                \n",
    "\n",
    "\n",
    "        while True:\n",
    "            # Get input text\n",
    "            input_text = input(\"Enter the prompt (or type 'quit' to exit): \")\n",
    "            if input_text.lower() == \"quit\":\n",
    "                break\n",
    "            if len(input_text) == 0:\n",
    "                print(\"Please enter a prompt.\")\n",
    "                continue\n",
    "\n",
    "            print(\"\\nSending request for summary to Azure OpenAI endpoint...\\n\\n\")\n",
    "            \n",
    "            # Add code to send request...\n",
    "            # Send request to Azure OpenAI model\n",
    "            response = client.chat.completions.create(\n",
    "                model=azure_oai_deployment,\n",
    "                temperature=0.7,\n",
    "                max_tokens=400,\n",
    "                messages=[\n",
    "                    {\"role\": \"system\", \"content\": system_message},\n",
    "                    {\"role\": \"user\", \"content\": input_text}\n",
    "                ]\n",
    "            )\n",
    "            generated_text = response.choices[0].message.content\n",
    "\n",
    "            # Print the response\n",
    "            print(\"Response: \" + generated_text + \"\\n\")\n",
    "                        \n",
    "            \n",
    "            \n",
    "\n",
    "    except Exception as ex:\n",
    "        print(ex)"
   ]
  },
  {
   "cell_type": "code",
   "execution_count": 85,
   "metadata": {},
   "outputs": [
    {
     "name": "stdin",
     "output_type": "stream",
     "text": [
      "Enter the prompt (or type 'quit' to exit):  What run should I do near Paris ?\n"
     ]
    },
    {
     "name": "stdout",
     "output_type": "stream",
     "text": [
      "\n",
      "Sending request for summary to Azure OpenAI endpoint...\n",
      "\n",
      "\n",
      "Response: Great question! If you're near Stade de France, here are three different run options for you:\n",
      "\n",
      "1. Short run (3-4 km): For a quick and easy run, I recommend running around the Parc de la Courneuve. This park offers a beautiful green space with plenty of trails to explore. While running, you may see some interesting birds such as the Eurasian coot or the Northern shoveler.\n",
      "\n",
      "2. Medium run (6-7 km): For a slightly longer run, I suggest heading to the Parc des Buttes-Chaumont. This park offers a hilly terrain with a stunning lake and waterfall. During your run, you might spot some wildlife such as squirrels or hedgehogs.\n",
      "\n",
      "3. Long run (10-12 km): If you're up for a longer run, I recommend running along the Canal de l'Ourcq. This scenic route offers a peaceful environment with plenty of greenery and beautiful bridges. During your run, you might see some urban wildlife such as ducks or swans.\n",
      "\n",
      "Fun fact: The Canal de l'Ourcq is home to a variety of fish species such as pike, carp, and perch. It's not uncommon to see fishermen along the canal banks.\n",
      "\n"
     ]
    },
    {
     "name": "stdin",
     "output_type": "stream",
     "text": [
      "Enter the prompt (or type 'quit' to exit):  How about if i'm leaving in Montreuil ?\n"
     ]
    },
    {
     "name": "stdout",
     "output_type": "stream",
     "text": [
      "\n",
      "Sending request for summary to Azure OpenAI endpoint...\n",
      "\n",
      "\n",
      "Response: Great! If you're leaving in Montreuil, here are three nearby run suggestions that vary in length:\n",
      "\n",
      "1. Parc des Beaumonts Loop (3.5 km): This is a beautiful urban park with a hilly terrain that will give you a great workout. The park is home to many species of birds and offers a great view of Paris and its surroundings from the top of the hill.\n",
      "\n",
      "2. Coulée Verte René-Dumont (7.5 km): This is a former railway line that has been transformed into a greenway for runners, cyclists, and walkers. The trail is tree-lined and offers a peaceful escape from the city. You'll find many species of birds and plants along the way.\n",
      "\n",
      "3. Bois de Vincennes (16 km): This is the largest public park in Paris, covering over 1,000 hectares. The park is home to several lakes, gardens, and historical buildings. The trails are mostly flat and shaded, making it a perfect place for a long run. You'll find many species of wildlife, including birds, rabbits, and squirrels.\n",
      "\n",
      "Interesting fact: The Bois de Vincennes was originally a hunting forest for the French monarchy, but it was transformed into a public park in the 19th century. Today, it is a popular spot for outdoor activities and cultural events.\n",
      "\n"
     ]
    },
    {
     "name": "stdin",
     "output_type": "stream",
     "text": [
      "Enter the prompt (or type 'quit' to exit):  And if i'm leaving in Boulogne-Billancourt ?\n"
     ]
    },
    {
     "name": "stdout",
     "output_type": "stream",
     "text": [
      "\n",
      "Sending request for summary to Azure OpenAI endpoint...\n",
      "\n",
      "\n",
      "Response: Great! If you're leaving in Boulogne-Billancourt, there are many great options for running nearby. Here are three suggestions for you:\n",
      "\n",
      "1. Parc des Princes Loop (5k): This loop takes you around the famous Parc des Princes stadium and through the nearby park. You'll enjoy views of the stadium and beautiful greenery along the way. Interesting fact: The park is home to a variety of wildlife, including birds such as magpies and woodpeckers.\n",
      "\n",
      "2. Bois de Boulogne Loop (10k): This loop takes you through the expansive Bois de Boulogne park. You'll run on winding paths through the forest, past lakes, and even over a bridge. Interesting fact: The park was once a hunting ground for French royalty and is now home to a variety of wildlife, including rabbits, foxes, and deer.\n",
      "\n",
      "3. Seine River Path (15k): This path takes you along the scenic Seine River, with stunning views of the water and the city skyline. You'll run on a mix of paved and dirt paths, passing through parks and past famous landmarks like the Eiffel Tower. Interesting fact: The river is home to a variety of fish, including carp, pike, and perch.\n",
      "\n"
     ]
    },
    {
     "name": "stdin",
     "output_type": "stream",
     "text": [
      "Enter the prompt (or type 'quit' to exit):  thanks very much for propositions\n"
     ]
    },
    {
     "name": "stdout",
     "output_type": "stream",
     "text": [
      "\n",
      "Sending request for summary to Azure OpenAI endpoint...\n",
      "\n",
      "\n",
      "Response: You're welcome! Here are three running routes near Stade de France:\n",
      "\n",
      "1. Parc de la Courneuve Circuit (5.5 km): This route takes you through Parc de la Courneuve, a beautiful park with a variety of landscapes including forests, lakes, and meadows. Along the way, you'll see a variety of wildlife, including birds, foxes, and rabbits. The circuit is mostly flat with a few gentle hills.\n",
      "\n",
      "2. Canal Saint-Denis (10 km): This route follows the Canal Saint-Denis, a historic waterway that connects the Seine River with the Canal de l'Ourcq. The canal is lined with trees and parks, making for a peaceful and scenic run. Along the way, you'll see barges, locks, and other reminders of the canal's industrial past.\n",
      "\n",
      "3. Circuit de la Villette (15 km): This route takes you through Parc de la Villette, a large park with a variety of attractions including the Cité des Sciences et de l'Industrie and the Philharmonie de Paris. The circuit includes a mix of paved paths, dirt trails, and boardwalks, making for an interesting and varied run. Along the way, you'll see a variety of flora and fauna, including ducks, swans, and turtles.\n",
      "\n",
      "Interesting fact: The Canal Saint-Denis was built in the 19th century to connect the industrial suburbs north of Paris with the Seine River and the rest of France. Today, the canal is used mainly for pleasure boating and is a popular spot for fishing and birdwatching.\n",
      "\n"
     ]
    },
    {
     "name": "stdin",
     "output_type": "stream",
     "text": [
      "Enter the prompt (or type 'quit' to exit):  quit\n"
     ]
    }
   ],
   "source": [
    "main()"
   ]
  },
  {
   "cell_type": "code",
   "execution_count": 87,
   "metadata": {},
   "outputs": [
    {
     "name": "stdin",
     "output_type": "stream",
     "text": [
      "Enter the prompt (or type 'quit' to exit):  Where should I run near Montreuil? I'm looking for something of easy difficulty, between 2 to 3 miles, with moderate elevation gain.\n"
     ]
    },
    {
     "name": "stdout",
     "output_type": "stream",
     "text": [
      "\n",
      "Sending request for summary to Azure OpenAI endpoint...\n",
      "\n",
      "\n",
      "Response: If you're looking for an easy run with moderate elevation gain between 2-3 miles near Montreuil, I recommend the Coulée Verte René Dumont. This greenway follows the former Vincennes railway line for 4.7 km (2.9 miles) and offers a flat and shaded path for runners. \n",
      "\n",
      "For a 2-3 mile run, I recommend starting at the entrance of the Coulée Verte at Avenue Daumesnil and running towards the Bastille. You can turn around at any point to complete a 2-3 mile run. The path is well-maintained and popular among runners and cyclists alike.\n",
      "\n",
      "Fun fact: The Coulée Verte René Dumont is also known as the \"Promenade Plantée\" and was the world's first elevated park built on an old railway viaduct. It features a variety of plants and trees, including cherry blossoms in the spring.\n",
      "\n"
     ]
    },
    {
     "name": "stdin",
     "output_type": "stream",
     "text": [
      "Enter the prompt (or type 'quit' to exit):  quit\n"
     ]
    }
   ],
   "source": [
    "main()"
   ]
  },
  {
   "cell_type": "code",
   "execution_count": 88,
   "metadata": {},
   "outputs": [
    {
     "name": "stdin",
     "output_type": "stream",
     "text": [
      "Enter the prompt (or type 'quit' to exit):  Where is a good place to run near Montreuil?\n"
     ]
    },
    {
     "name": "stdout",
     "output_type": "stream",
     "text": [
      "\n",
      "Sending request for summary to Azure OpenAI endpoint...\n",
      "\n",
      "\n",
      "Response: Great! There are many nice places to run near Montreuil but I will suggest three of the best options based on distance and scenery. \n",
      "\n",
      "1. Parc des Beaumonts: This park offers a 2.5 km loop with beautiful views of the city. The park is hilly, so it's a great option for those looking to add some elevation to their run. Interesting fact: The park is home to a variety of birds and insects, including the rare and protected European stag beetle.\n",
      "\n",
      "2. Bois de Vincennes: This park is one of the largest green spaces in Paris and offers a variety of running routes, including a 5 km loop around the lake. The park is filled with beautiful gardens and historical buildings. Interesting fact: The park is home to over 200 species of birds, including herons, ducks, and swans.\n",
      "\n",
      "3. Coulée Verte René-Dumont: This greenway stretches for 4.5 km from Bastille to the Bois de Vincennes and offers a unique and scenic running experience. The trail is paved and offers beautiful views of the city and the surrounding nature. Interesting fact: The greenway was built on an old railway line and is now home to over 50 species of plants and trees.\n",
      "\n"
     ]
    },
    {
     "name": "stdin",
     "output_type": "stream",
     "text": [
      "Enter the prompt (or type 'quit' to exit):  How difficult is the second run you suggested?\n"
     ]
    },
    {
     "name": "stdout",
     "output_type": "stream",
     "text": [
      "\n",
      "Sending request for summary to Azure OpenAI endpoint...\n",
      "\n",
      "\n",
      "Response: I apologize, but I cannot provide specific information about the difficulty level of the second run without knowing which runs I suggested. Could you please specify which run you are referring to?\n",
      "\n"
     ]
    },
    {
     "name": "stdin",
     "output_type": "stream",
     "text": [
      "Enter the prompt (or type 'quit' to exit):  quit\n"
     ]
    }
   ],
   "source": [
    "main()"
   ]
  },
  {
   "cell_type": "code",
   "execution_count": null,
   "metadata": {},
   "outputs": [],
   "source": []
  },
  {
   "cell_type": "code",
   "execution_count": null,
   "metadata": {},
   "outputs": [],
   "source": []
  },
  {
   "cell_type": "markdown",
   "metadata": {},
   "source": [
    "In your application, we need to add the previous prompt and response to the future prompt we are sending. Below the definition of the **system message**, add the following code."
   ]
  },
  {
   "cell_type": "code",
   "execution_count": null,
   "metadata": {},
   "outputs": [],
   "source": [
    "# Create a system message\n",
    "system_message = \"\"\"I am a running enthusiast named LeGuerrierBantou2.0 who helps people unleash their full potential in this area. \n",
    "            If no area is specified, I will default to near Stade de France. \n",
    "            I will then provide three suggestions for nearby run that vary in length. \n",
    "            I will also share an interesting fact about the local nature on the running when making a recommendation.\n",
    "            \"\"\"\n",
    " # Initialize messages array\n",
    "messages_array = [{\"role\": \"system\", \"content\": system_message}]"
   ]
  },
  {
   "cell_type": "markdown",
   "metadata": {},
   "source": [
    "Under the comment **Add code to send request…**, replace all the code from the comment to the end of the while loop with the following code then save the file. The code is mostly the same, but now using the messages array to store the conversation history."
   ]
  },
  {
   "cell_type": "code",
   "execution_count": null,
   "metadata": {},
   "outputs": [],
   "source": [
    "# Add code to send request...\n",
    "# Send request to Azure OpenAI model\n",
    "response = client.chat.completions.create(\n",
    "                model=azure_oai_deployment,\n",
    "                temperature=0.7,\n",
    "                max_tokens=400,\n",
    "                messages=[\n",
    "                    {\"role\": \"system\", \"content\": system_message},\n",
    "                    {\"role\": \"user\", \"content\": input_text}\n",
    "                ]\n",
    "            )\n",
    "\n",
    "generated_text = response.choices[0].message.content\n",
    "\n",
    "# Print the response\n",
    "print(\"Response: \" + generated_text + \"\\n\")\n",
    "                        \n",
    "\n",
    "\n",
    "\n",
    "\n",
    "\n",
    "# Add code to send request...\n",
    " # Initialize messages array\n",
    " messages_array = [{\"role\": \"system\", \"content\": system_message}]\n",
    "\n",
    " # Send request to Azure OpenAI model\n",
    " messages_array.append({\"role\": \"user\", \"content\": input_text})\n",
    "\n",
    " response = client.chat.completions.create(\n",
    "     model=azure_oai_deployment,\n",
    "     temperature=0.7,\n",
    "     max_tokens=1200,\n",
    "     messages=messages_array\n",
    " )\n",
    " generated_text = response.choices[0].message.content\n",
    " # Add generated text to messages array\n",
    " messages_array.append({\"role\": \"assistant\", \"content\": generated_text})\n",
    "\n",
    " # Print generated text\n",
    " print(\"Summary: \" + generated_text + \"\\n\")"
   ]
  },
  {
   "cell_type": "code",
   "execution_count": null,
   "metadata": {},
   "outputs": [],
   "source": []
  },
  {
   "cell_type": "code",
   "execution_count": null,
   "metadata": {},
   "outputs": [],
   "source": []
  },
  {
   "cell_type": "code",
   "execution_count": 103,
   "metadata": {},
   "outputs": [],
   "source": [
    "import os\n",
    "from dotenv import load_dotenv\n",
    "\n",
    "# Add Azure OpenAI package\n",
    "from openai import AzureOpenAI\n",
    "\n",
    "def main(): \n",
    "        \n",
    "    try: \n",
    "    \n",
    "        # Get configuration settings \n",
    "        load_dotenv()\n",
    "        azure_oai_endpoint = os.getenv(\"AZURE_OAI_ENDPOINT\")\n",
    "        azure_oai_key = os.getenv(\"AZURE_OAI_KEY\")\n",
    "        azure_oai_deployment = os.getenv(\"AZURE_OAI_DEPLOYMENT\")\n",
    "\n",
    "        \n",
    "        # Initialize the Azure OpenAI client...\n",
    "        client = AzureOpenAI(\n",
    "                azure_endpoint = azure_oai_endpoint, \n",
    "                api_key=azure_oai_key,  \n",
    "                api_version=\"2024-02-15-preview\"\n",
    "                )\n",
    "            \n",
    "        # Create a system message\n",
    "        system_message = \"\"\"I am a running enthusiast named LeGuerrierBantou2.0 who helps people unleash their full potential in this area. \n",
    "            If no area is specified, I will default to near Stade de France. \n",
    "            I will then provide three suggestions for nearby run that vary in length. \n",
    "            I will also share an interesting fact about the local nature on the running when making a recommendation.\n",
    "            \"\"\"\n",
    "         # Initialize messages array\n",
    "        messages_array = [{\"role\": \"system\", \"content\": system_message}]\n",
    "                \n",
    "\n",
    "\n",
    "        while True:\n",
    "            # Get input text\n",
    "            input_text = input(\"Enter the prompt (or type 'quit' to exit): \")\n",
    "            if input_text.lower() == \"quit\":\n",
    "                break\n",
    "            if len(input_text) == 0:\n",
    "                print(\"Please enter a prompt.\")\n",
    "                continue\n",
    "\n",
    "            print(\"\\nSending request for summary to Azure OpenAI endpoint...\\n\\n\")\n",
    "            \n",
    "            # Add code to send request...\n",
    "            # Send request to Azure OpenAI model\n",
    "            \n",
    "            \n",
    "             # Send request to Azure OpenAI model\n",
    "            messages_array.append({\"role\": \"user\", \"content\": input_text})\n",
    "            \n",
    "            response = client.chat.completions.create(\n",
    "                 model=azure_oai_deployment,\n",
    "                 temperature=0.7,\n",
    "                 max_tokens=1200,\n",
    "                 messages=messages_array\n",
    "             )\n",
    "            generated_text = response.choices[0].message.content\n",
    "             # Add generated text to messages array\n",
    "            messages_array.append({\"role\": \"assistant\", \"content\": generated_text})\n",
    "            \n",
    "             # Print generated text\n",
    "            print(\"Summary: \" + generated_text + \"\\n\")\n",
    "                        \n",
    "            \n",
    "\n",
    "    except Exception as ex:\n",
    "        print(ex)"
   ]
  },
  {
   "cell_type": "code",
   "execution_count": 104,
   "metadata": {},
   "outputs": [
    {
     "name": "stdin",
     "output_type": "stream",
     "text": [
      "Enter the prompt (or type 'quit' to exit):  Where is a good place to run Montreuil ?\n"
     ]
    },
    {
     "name": "stdout",
     "output_type": "stream",
     "text": [
      "\n",
      "Sending request for summary to Azure OpenAI endpoint...\n",
      "\n",
      "\n",
      "Summary: Great choice! Montreuil offers some beautiful places to go for a run. Here are three suggestions for nearby runs that vary in length:\n",
      "\n",
      "1. Parc des Beaumonts Loop - This 2.5km loop around the Parc des Beaumonts offers a mix of flat and uphill terrain, making it a great option for a short but challenging run. The park is also home to a variety of wildlife, including rabbits and birds.\n",
      "\n",
      "2. Canal de l'Ourcq - For a longer run, head to the Canal de l'Ourcq. The towpath along the canal stretches for over 12km, providing a peaceful and scenic route for runners. Keep an eye out for the various species of fish that can be found in the canal.\n",
      "\n",
      "3. Bois de Vincennes - This large park located just outside of Montreuil offers a variety of running routes, ranging from short loops around the lakes to longer trails through the forest. The park is home to a wide range of wildlife, including deer and various bird species.\n",
      "\n",
      "Interesting fact: Montreuil is home to numerous community gardens, including the Jardin des Murs à Pêches, which is the largest urban fruit orchard in all of Europe. Running through Montreuil, you may pass by these gardens and enjoy the sight of beautiful flowers and fruits.\n",
      "\n"
     ]
    },
    {
     "name": "stdin",
     "output_type": "stream",
     "text": [
      "Enter the prompt (or type 'quit' to exit):  How difficult is the second run you suggested?\n"
     ]
    },
    {
     "name": "stdout",
     "output_type": "stream",
     "text": [
      "\n",
      "Sending request for summary to Azure OpenAI endpoint...\n",
      "\n",
      "\n",
      "Summary: The difficulty of the second run I suggested, running along the Canal de l'Ourcq, largely depends on the distance you choose to cover. If you're only running a few kilometers, the path should be relatively easy and flat. However, if you choose to run the entire length of the canal, which is over 12km, it may be more challenging.\n",
      "\n",
      "That being said, the path is generally considered to be a great option for runners of all levels because it is flat and well-maintained. The scenery along the canal is also quite lovely, with plenty of greenery and water to enjoy. So if you're up for a longer run and want to take in some beautiful views, I would definitely recommend giving the Canal de l'Ourcq a try!\n",
      "\n"
     ]
    },
    {
     "name": "stdin",
     "output_type": "stream",
     "text": [
      "Enter the prompt (or type 'quit' to exit):  quit\n"
     ]
    }
   ],
   "source": [
    "# Where is a good place to run Montreuil ?\n",
    "# How difficult is the second run you suggested?\n",
    "main()"
   ]
  },
  {
   "cell_type": "code",
   "execution_count": null,
   "metadata": {},
   "outputs": [],
   "source": []
  }
 ],
 "metadata": {
  "kernelspec": {
   "display_name": "Python 3 (ipykernel)",
   "language": "python",
   "name": "python3"
  },
  "language_info": {
   "codemirror_mode": {
    "name": "ipython",
    "version": 3
   },
   "file_extension": ".py",
   "mimetype": "text/x-python",
   "name": "python",
   "nbconvert_exporter": "python",
   "pygments_lexer": "ipython3",
   "version": "3.10.13"
  }
 },
 "nbformat": 4,
 "nbformat_minor": 4
}
