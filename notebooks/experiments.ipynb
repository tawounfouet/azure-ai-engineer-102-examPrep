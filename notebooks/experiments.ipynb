{
 "cells": [
  {
   "cell_type": "code",
   "execution_count": 1,
   "metadata": {},
   "outputs": [
    {
     "name": "stdout",
     "output_type": "stream",
     "text": [
      "hello word\n"
     ]
    }
   ],
   "source": [
    "print(\"hello word\")"
   ]
  },
  {
   "cell_type": "markdown",
   "metadata": {},
   "source": [
    "## Écrire des fonctions\n",
    "Les modèles Azure OpenAI sont capables de créer des fonctions et des applications en plusieurs langages si vous décrivez tout simplement ce que vous voulez. Par exemple, supposons que vous avez besoin d’une implémentation de la recherche binaire, mais que vous ne vous souvenez pas de la manière de procéder. À l’invite write a function for binary search in python, vous allez probablement recevoir une réponse avec la fonction et une explication du code."
   ]
  },
  {
   "cell_type": "code",
   "execution_count": 1,
   "metadata": {},
   "outputs": [],
   "source": [
    "def binary_search(array, target):  \n",
    "    low = 0  \n",
    "    high = len(array) - 1  \n",
    "  \n",
    "    while low <= high:  \n",
    "        mid = (low + high) // 2  \n",
    "        if array[mid] == target:  \n",
    "            return mid  \n",
    "        elif array[mid] < target:  \n",
    "            low = mid + 1  \n",
    "        else:  \n",
    "            high = mid - 1  \n",
    "  \n",
    "    return -1  \n",
    " "
   ]
  },
  {
   "cell_type": "markdown",
   "metadata": {},
   "source": [
    "This function takes in two arguments \n",
    "- an array of integers and a target integer that we want to search for in the array.\n",
    "- The function initializes two pointers\n",
    "      - low and high - to the first and last indices of the array, respectively.\n",
    "\n",
    "Inside the while loop, the function calculates the middle index using integer division (//). \n",
    "- If the middle element is equal to the target, the function returns the index of the middle element.\n",
    "- If the middle element is less than the target, we update the low pointer to mid + 1. Otherwise, we update the \n",
    "high pointer to mid - 1. We continue these steps until we find the target or the pointers cross each \n",
    "other (i.e., low > high).\n",
    "\n",
    "- If the target is not found in the array, the function returns -1.\n",
    "\n",
    "Note that the binary search algorithm assumes that the input array is sorted in ascending order. If \n",
    "the array is not sorted, the algorithm may not return the correct result."
   ]
  },
  {
   "cell_type": "markdown",
   "metadata": {},
   "source": [
    "## Compléter du code partiel\n",
    "Les modèles Azure OpenAI sont capables de générer du code en fonction de commentaires, de noms de fonctions et de code partiellement écrit. Plus vous pouvez fournir du contexte au modèle, plus la réponse a des chances d’être précise.\n",
    "\n",
    "Par exemple, à l’invite suivante :\n",
    "\n",
    "prompt\n",
    "  \n",
    "```sh\n",
    "# calculate the average of the numbers in an array, but only if they're even  \n",
    "def \n",
    "```\n",
    "\n",
    "Le modèle prend les commentaires et le début de la définition de fonction, puis il la complète à partir du contexte dont il dispose.\n"
   ]
  },
  {
   "cell_type": "code",
   "execution_count": 17,
   "metadata": {},
   "outputs": [],
   "source": [
    "# calculate the average of the even numbers in an array  \n",
    "def calculate_even_average(numbers):  \n",
    "    total = 0  \n",
    "    count = 0  \n",
    "    for number in numbers:  \n",
    "        if number % 2 == 0:  \n",
    "            total += number  \n",
    "            count += 1  \n",
    "    if count == 0:  \n",
    "        return 0  # avoid division by zero  \n",
    "    else:  \n",
    "        return total / count  "
   ]
  },
  {
   "cell_type": "code",
   "execution_count": 15,
   "metadata": {},
   "outputs": [],
   "source": [
    "# My ajustments\n",
    "\n",
    "# calculate the average of the even numbers in an array  \n",
    "def calculate_even_average(numbers):  \n",
    "    total = 0  \n",
    "    count = 0  \n",
    "\n",
    "    even_numbers = list()\n",
    "    \n",
    "    for number in numbers:  \n",
    "        if number % 2 == 0:\n",
    "            print(f\"{number} is even\")\n",
    "            even_numbers.append(number)\n",
    "            total += number  \n",
    "            count += 1\n",
    "        else:\n",
    "            print(f\"{number} is even\")\n",
    "            pass      \n",
    "    if count == 0:  \n",
    "        return 0  # avoid division by zero  \n",
    "    else:\n",
    "        print(even_numbers)\n",
    "        return total / count  \n"
   ]
  },
  {
   "cell_type": "code",
   "execution_count": 16,
   "metadata": {},
   "outputs": [
    {
     "name": "stdout",
     "output_type": "stream",
     "text": [
      "4 is even\n",
      "3 is even\n",
      "10 is even\n",
      "[4, 10]\n"
     ]
    },
    {
     "data": {
      "text/plain": [
       "7.0"
      ]
     },
     "execution_count": 16,
     "metadata": {},
     "output_type": "execute_result"
    }
   ],
   "source": [
    "calculate_even_average([4, 3, 10])"
   ]
  },
  {
   "cell_type": "code",
   "execution_count": null,
   "metadata": {},
   "outputs": [],
   "source": []
  },
  {
   "cell_type": "markdown",
   "metadata": {},
   "source": [
    "Un fonctionnement similaire peut être observé en fournissant du code partiel au modèle, sans aucun commentaire. Prenez l’invite suivante à titre d’exemple.\n",
    "```sh\n",
    "# complete the following code  \n",
    "def func1(n)\n",
    "  if n==0:\n",
    "```\n",
    "\n",
    "Le modèle IA fait de son mieux pour compléter la fonction avec la complétion la plus probable de la fonction."
   ]
  },
  {
   "cell_type": "code",
   "execution_count": 18,
   "metadata": {},
   "outputs": [],
   "source": [
    "def func1(n):  \n",
    "    if n == 0:  \n",
    "        return 1  \n",
    "    else:  \n",
    "        return n * func1(n-1)  "
   ]
  },
  {
   "cell_type": "code",
   "execution_count": 19,
   "metadata": {},
   "outputs": [
    {
     "data": {
      "text/plain": [
       "6"
      ]
     },
     "execution_count": 19,
     "metadata": {},
     "output_type": "execute_result"
    }
   ],
   "source": [
    "func1(3)"
   ]
  },
  {
   "cell_type": "markdown",
   "metadata": {},
   "source": [
    "La réponse inclut probablement aussi une explication en langage naturel de ce que cette fonction effectue. Dans cet exemple, elle a répondu par une implémentation récursive de la fonction factorielle. Néanmoins, l’invite aurait également pu correspondre au début d’une fonction Fibonacci, ce qui illustre un cas où nous avons besoin de plus de contexte dans l’invite pour mieux indiquer ce que nous attendons du modèle.\n",
    "\n",
    "Des outils comme GitHub Copilot utilisent des modèles OpenAI pour suggérer des complétions de code et de fonction de la même manière que dans les exemples ci-dessus. GitHub Copilot est un excellent exemple d’utilisation réelle de cette fonctionnalité qui recourt à des invites intégrées et au contexte du code que vous écrivez pour jouer le rôle de votre programmeur associé."
   ]
  },
  {
   "cell_type": "code",
   "execution_count": null,
   "metadata": {},
   "outputs": [],
   "source": []
  },
  {
   "cell_type": "code",
   "execution_count": null,
   "metadata": {},
   "outputs": [],
   "source": []
  },
  {
   "cell_type": "markdown",
   "metadata": {},
   "source": [
    "### Écrire des tests unitaires\n",
    "Les modèles Azure OpenAI peuvent générer des tests unitaires pour les fonctions que vous écrivez afin de rendre votre code plus robuste. Prenons par exemple la fonction de recherche binaire.\n",
    "\n",
    "\n",
    "```python\n",
    "def binary_search(arr, target):\n",
    "    left, right = 0, len(arr) - 1\n",
    "    while left <= right:\n",
    "        mid = (left + right) // 2\n",
    "        if arr[mid] == target:\n",
    "            return mid\n",
    "        elif arr[mid] < target:\n",
    "            left = mid + 1\n",
    "        else:\n",
    "            right = mid - 1\n",
    "    return -1\n",
    "```\n",
    "Fournissez cette fonction avec l’invite:\n",
    "```sh\n",
    "write three unit tests for this function\n",
    "```\n",
    "et vous obtenez une réponse similaire à la suivante."
   ]
  },
  {
   "cell_type": "code",
   "execution_count": 21,
   "metadata": {},
   "outputs": [],
   "source": [
    "def test_binary_search():  \n",
    "    # Test case 1: Target element is in the middle of the array  \n",
    "    arr1 = [1, 2, 3, 4, 5, 6]  \n",
    "    target1 = 4  \n",
    "    assert binary_search(arr1, target1) == 3  \n",
    "\n",
    "    # Test case 2: Target element is at the beginning of the array  \n",
    "    arr2 = [1, 2, 3, 4, 5, 6]  \n",
    "    target2 = 1  \n",
    "    assert binary_search(arr2, target2) == 0  \n",
    "\n",
    "    # Test case 3: Target element is not in the array  \n",
    "    arr3 = [1, 2, 3, 4, 5, 6]  \n",
    "    target3 = 7  \n",
    "    assert binary_search(arr3, target3) == -1"
   ]
  },
  {
   "cell_type": "code",
   "execution_count": 22,
   "metadata": {},
   "outputs": [],
   "source": [
    "test_binary_search()"
   ]
  },
  {
   "cell_type": "markdown",
   "metadata": {},
   "source": [
    "### Ajouter des commentaires et générer la documentation\n",
    "Pour améliorer encore votre code, les modèles IA peuvent ajouter automatiquement des commentaires et la documentation. Prenons la fonction suivante à titre d’exemple, laquelle peut s’avérer un peu difficile à comprendre à sa première lecture en l’absence de commentaires de code.\n",
    "\n",
    "\n",
    "\n",
    "```Python\n",
    "def permutations(lst):  \n",
    "    if len(lst) == 0:  \n",
    "        return []  \n",
    "    elif len(lst) == 1:  \n",
    "        return [lst]  \n",
    "    else:  \n",
    "        result = []  \n",
    "        for i in range(len(lst)):  \n",
    "            temp = lst[i]  \n",
    "            remaining = lst[:i] + lst[i+1:]  \n",
    "            for p in permutations(remaining):  \n",
    "                result.append([temp] + p)  \n",
    "        return result\n",
    "```"
   ]
  },
  {
   "cell_type": "code",
   "execution_count": 24,
   "metadata": {},
   "outputs": [],
   "source": [
    "def permutations(lst):  \n",
    "    # Check if the input list is empty  \n",
    "    if len(lst) == 0:  \n",
    "        return []  \n",
    "    # Check if the input list has only one element  \n",
    "    elif len(lst) == 1:  \n",
    "        return [lst]  \n",
    "    else:  \n",
    "        # Initialize an empty list to store permutations  \n",
    "        result = []  \n",
    "        # Iterate through each element of the input list  \n",
    "        for i in range(len(lst)):  \n",
    "            # Remove the current element from the list and store it in a variable  \n",
    "            temp = lst[i]  \n",
    "            remaining = lst[:i] + lst[i+1:]  \n",
    "            # Recursively call the function on the remaining list  \n",
    "            for p in permutations(remaining):  \n",
    "                # Append the current element to the beginning of each permutation and add it to the result list  \n",
    "                result.append([temp] + p)  \n",
    "        # Return the final list of permutations  \n",
    "        return result "
   ]
  },
  {
   "cell_type": "code",
   "execution_count": 29,
   "metadata": {},
   "outputs": [
    {
     "data": {
      "text/plain": [
       "[[1, 2, 3], [1, 3, 2], [2, 1, 3], [2, 3, 1], [3, 1, 2], [3, 2, 1]]"
      ]
     },
     "execution_count": 29,
     "metadata": {},
     "output_type": "execute_result"
    }
   ],
   "source": [
    "lst = [1, 2, 3]\n",
    "\n",
    "permutations(lst)"
   ]
  },
  {
   "cell_type": "markdown",
   "metadata": {},
   "source": [
    "Allez encore plus loin en lui demandant la documentation de la fonction à laquelle il vient d’ajouter des commentaires."
   ]
  },
  {
   "cell_type": "code",
   "execution_count": 30,
   "metadata": {},
   "outputs": [],
   "source": [
    "def permutations(lst):  \n",
    "    \"\"\"  \n",
    "    Generates all possible permutations of a given list of integers using recursion.  \n",
    "\n",
    "    Args:  \n",
    "        lst (list): The list of integers to generate permutations for.  \n",
    "\n",
    "    Returns:  \n",
    "        list: A list of all possible permutations of the input list.  \n",
    "    \"\"\"  \n",
    "    # Check if the input list is empty  \n",
    "    if len(lst) == 0:  \n",
    "        return []  \n",
    "    # Check if the input list has only one element  \n",
    "    elif len(lst) == 1:  \n",
    "        return [lst]  \n",
    "    else:  \n",
    "        # Initialize an empty list to store permutations  \n",
    "        result = []  \n",
    "        # Iterate through each element of the input list  \n",
    "        for i in range(len(lst)):  \n",
    "            # Remove the current element from the list and store it in a variable  \n",
    "            temp = lst[i]  \n",
    "            remaining = lst[:i] + lst[i+1:]  \n",
    "            # Recursively call the function on the remaining list  \n",
    "            for p in permutations(remaining):  \n",
    "                # Append the current element to the beginning of each permutation and add it to the result list  \n",
    "                result.append([temp] + p)  \n",
    "        # Return the final list of permutations  \n",
    "        return result"
   ]
  },
  {
   "cell_type": "code",
   "execution_count": 33,
   "metadata": {},
   "outputs": [],
   "source": [
    "def permutations(lst):  \n",
    "    \"\"\"  \n",
    "    Generates all possible permutations of a given list of integers using recursion.  \n",
    "\n",
    "    Args:  \n",
    "        lst (list): The list of integers to generate permutations for.  \n",
    "\n",
    "    Returns:  \n",
    "        list: A list of all possible permutations of the input list.  \n",
    "    \"\"\"  \n",
    "    # Check if the input list is empty  \n",
    "    if len(lst) == 0:  \n",
    "        return []  \n",
    "    # Check if the input list has only one element  \n",
    "    elif len(lst) == 1:  \n",
    "        return [lst]  \n",
    "    else:  \n",
    "        # Initialize an empty list to store permutations  \n",
    "        result = []  \n",
    "        # Iterate through each element of the input list  \n",
    "        for i in range(len(lst)):  \n",
    "            # Remove the current element from the list and store it in a variable  \n",
    "            temp = lst[i]  \n",
    "            remaining = lst[:i] + lst[i+1:]  \n",
    "            # Recursively call the function on the remaining list  \n",
    "            for p in permutations(remaining):  \n",
    "                # Append the current element to the beginning of each permutation and add it to the result list  \n",
    "                result.append([temp] + p)  \n",
    "        # Return the final list of permutations  \n",
    "        return result"
   ]
  },
  {
   "cell_type": "code",
   "execution_count": 31,
   "metadata": {},
   "outputs": [],
   "source": [
    "def permutations(lst: list[int] ) -> (list | list[list[int]]):  \n",
    "    \"\"\"  \n",
    "    Generates all possible permutations of a given list of integers using recursion.  \n",
    "\n",
    "    Args:  \n",
    "        lst (list): The list of integers to generate permutations for.  \n",
    "\n",
    "    Returns:  \n",
    "        list: A list of all possible permutations of the input list.  \n",
    "    \"\"\"  \n",
    "    # Check if the input list is empty  \n",
    "    if len(lst) == 0:  \n",
    "        return []  \n",
    "    # Check if the input list has only one element  \n",
    "    elif len(lst) == 1:  \n",
    "        return [lst]  \n",
    "    else:  \n",
    "        # Initialize an empty list to store permutations  \n",
    "        result = []  \n",
    "        # Iterate through each element of the input list  \n",
    "        for i in range(len(lst)):  \n",
    "            # Remove the current element from the list and store it in a variable  \n",
    "            temp = lst[i]  \n",
    "            remaining = lst[:i] + lst[i+1:]  \n",
    "            # Recursively call the function on the remaining list  \n",
    "            for p in permutations(remaining):  \n",
    "                # Append the current element to the beginning of each permutation and add it to the result list  \n",
    "                result.append([temp] + p)  \n",
    "        # Return the final list of permutations  \n",
    "        return result"
   ]
  },
  {
   "cell_type": "code",
   "execution_count": null,
   "metadata": {},
   "outputs": [],
   "source": []
  },
  {
   "cell_type": "markdown",
   "metadata": {},
   "source": [
    "### Corriger les bogues dans votre code"
   ]
  },
  {
   "cell_type": "code",
   "execution_count": 36,
   "metadata": {},
   "outputs": [
    {
     "ename": "SyntaxError",
     "evalue": "invalid syntax (613744815.py, line 7)",
     "output_type": "error",
     "traceback": [
      "\u001b[0;36m  Cell \u001b[0;32mIn[36], line 7\u001b[0;36m\u001b[0m\n\u001b[0;31m    rerun averave\u001b[0m\n\u001b[0m          ^\u001b[0m\n\u001b[0;31mSyntaxError\u001b[0m\u001b[0;31m:\u001b[0m invalid syntax\n"
     ]
    }
   ],
   "source": [
    "def calculate_average(numbers):  \n",
    "    total = 0  \n",
    "    for i in range(len(numbers)):  \n",
    "        number = numbers[i]  \n",
    "        total += number  \n",
    "    average = total  \n",
    "    rerun averave"
   ]
  },
  {
   "cell_type": "code",
   "execution_count": 37,
   "metadata": {},
   "outputs": [],
   "source": [
    "# my test to fix the bug\n",
    "def calculate_average(numbers):  \n",
    "    total = 0  \n",
    "    for i in range(len(numbers)):  \n",
    "        number = numbers[i]  \n",
    "        total += number  \n",
    "    average = total  \n",
    "    return average"
   ]
  },
  {
   "cell_type": "markdown",
   "metadata": {},
   "source": [
    "Fournissez cette fonction au modèle, avec l’invite Fix the bugs in this function. Vous obtenez alors une réponse avec le code corrigé et une explication de ce qui a été corrigé."
   ]
  },
  {
   "cell_type": "code",
   "execution_count": 39,
   "metadata": {},
   "outputs": [],
   "source": [
    "# ai fix the bug\n",
    "\n",
    "def calculate_average(numbers):  \n",
    "    total = 0  \n",
    "    for i in range(len(numbers)):  \n",
    "        number = numbers[i]  \n",
    "        total += number  \n",
    "    average = total / len(numbers)  \n",
    "    return average "
   ]
  },
  {
   "cell_type": "markdown",
   "metadata": {},
   "source": [
    "There were a few issues with the original code:\n",
    "\n",
    "1. The variable \"average\" was assigned the value of \"total\" instead of the actual average.\n",
    "2. There was a typo in the last line - \"rerun\" should be \"return\".\n",
    "3. The average was not actually calculated - the corrected code divides the total by the length of \n",
    "the \"numbers\" list to get the average.\n"
   ]
  },
  {
   "cell_type": "code",
   "execution_count": null,
   "metadata": {},
   "outputs": [],
   "source": []
  },
  {
   "cell_type": "markdown",
   "metadata": {},
   "source": [
    "## Améliorer les performances\n",
    "Même si ce qu’écrivent les développeurs de code peut fonctionner, il peut exister une façon plus efficace d’accomplir la même tâche. Voici un exemple de fonction qui calcule la somme des n premiers entiers positifs, d’une manière potentiellement peu efficace :\n"
   ]
  },
  {
   "cell_type": "code",
   "execution_count": 43,
   "metadata": {},
   "outputs": [],
   "source": [
    "def sum_of_n(n):\n",
    "    result = 0\n",
    "    for i in range(1, n+1):\n",
    "        result += i\n",
    "    return result"
   ]
  },
  {
   "cell_type": "code",
   "execution_count": 41,
   "metadata": {},
   "outputs": [
    {
     "data": {
      "text/plain": [
       "3"
      ]
     },
     "execution_count": 41,
     "metadata": {},
     "output_type": "execute_result"
    }
   ],
   "source": [
    "sum_of_n(2)"
   ]
  },
  {
   "cell_type": "code",
   "execution_count": 46,
   "metadata": {},
   "outputs": [],
   "source": [
    "def sum_of_n(n):\n",
    "    result = 0\n",
    "    for i in range(1, n+1):\n",
    "        print(\" ->\" ,i)\n",
    "        result += i\n",
    "    return result"
   ]
  },
  {
   "cell_type": "code",
   "execution_count": 47,
   "metadata": {},
   "outputs": [
    {
     "name": "stdout",
     "output_type": "stream",
     "text": [
      " -> 1\n",
      " -> 2\n",
      " -> 3\n"
     ]
    },
    {
     "data": {
      "text/plain": [
       "6"
      ]
     },
     "execution_count": 47,
     "metadata": {},
     "output_type": "execute_result"
    }
   ],
   "source": [
    "sum_of_n(3)"
   ]
  },
  {
   "cell_type": "markdown",
   "metadata": {},
   "source": [
    "Cette version fonctionne correctement, mais sa complexité de durée est égale à `O(n)`. Lorsqu’elle est fournie au modèle, voici la réponse obtenue :\n"
   ]
  },
  {
   "cell_type": "markdown",
   "metadata": {},
   "source": [
    "\n",
    "We can improve this function it by using a mathematical formula instead.\n",
    "\n",
    "Here's the more efficient version:"
   ]
  },
  {
   "cell_type": "code",
   "execution_count": 48,
   "metadata": {},
   "outputs": [],
   "source": [
    "def sum_of_n(n):\n",
    "    return n * (n + 1) // 2"
   ]
  },
  {
   "cell_type": "code",
   "execution_count": 49,
   "metadata": {},
   "outputs": [
    {
     "data": {
      "text/plain": [
       "6"
      ]
     },
     "execution_count": 49,
     "metadata": {},
     "output_type": "execute_result"
    }
   ],
   "source": [
    "sum_of_n(3)"
   ]
  },
  {
   "cell_type": "markdown",
   "metadata": {},
   "source": [
    "Cette version retourne toujours le bon résultat, mais sa complexité de durée est désormais égale à `O(1)`, ce qui la rend beaucoup plus efficace."
   ]
  },
  {
   "cell_type": "code",
   "execution_count": null,
   "metadata": {},
   "outputs": [],
   "source": []
  },
  {
   "cell_type": "markdown",
   "metadata": {},
   "source": [
    "## Refactoriser du code inefficace\n",
    "Un code plus efficace est moins sujet aux bogues et plus facile à gérer. Les modèles Azure OpenAI peuvent ainsi aider les développeurs à refactoriser leur code.\n",
    "\n",
    "Observez la fonction suivante.\n",
    "\n",
    "\n",
    "```Python\n",
    "def calculateTotalPrice(item, quantity):\n",
    "    if item == 'apple':\n",
    "        return quantity * 0.5\n",
    "    elif item == 'banana':\n",
    "        return quantity * 0.75\n",
    "    elif item == 'orange':\n",
    "        return quantity * 0.6\n",
    "    else:\n",
    "        return 0\n",
    "```\n",
    "Ce code calcule le prix total d’un élément particulier en fonction de son nom et de sa quantité. Néanmoins, le code n’est pas modulaire et peut s’avérer difficile à gérer. Lorsqu’il est fourni au modèle avec une demande de refactorisation, voici la réponse obtenue :\n",
    "\n"
   ]
  },
  {
   "cell_type": "code",
   "execution_count": 53,
   "metadata": {},
   "outputs": [],
   "source": [
    "item_prices = {  \n",
    "    'apple': 0.5,  \n",
    "    'banana': 0.75,  \n",
    "    'orange': 0.6  \n",
    "}  \n",
    "\n",
    "def calculate_total_price(item, quantity):  \n",
    "    price = item_prices.get(item, 0)  \n",
    "    return quantity * price  "
   ]
  },
  {
   "cell_type": "code",
   "execution_count": 54,
   "metadata": {},
   "outputs": [
    {
     "data": {
      "text/plain": [
       "1.5"
      ]
     },
     "execution_count": 54,
     "metadata": {},
     "output_type": "execute_result"
    }
   ],
   "source": [
    "calculateTotalPrice(\"apple\", 3)"
   ]
  },
  {
   "cell_type": "code",
   "execution_count": 55,
   "metadata": {},
   "outputs": [
    {
     "data": {
      "text/plain": [
       "3.75"
      ]
     },
     "execution_count": 55,
     "metadata": {},
     "output_type": "execute_result"
    }
   ],
   "source": [
    "calculateTotalPrice(\"banana\", 5)"
   ]
  },
  {
   "cell_type": "markdown",
   "metadata": {},
   "source": [
    "De concert avec le code, le modèle fournit une explication de la refactorisation.\n",
    "\n",
    "```sh\n",
    "# AI\n",
    "In this refactored code, we have created an object called `itemPrices` that maps item names to their \n",
    "prices. We have also simplified the calculateTotalPrice function by using the itemPrices object to look \n",
    "up the price of the item, rather than using a series of if/else statements. This makes the code more \n",
    "modular and easier to maintain, and also reduces the risk of introducing bugs in the future.\n",
    "```"
   ]
  },
  {
   "cell_type": "code",
   "execution_count": null,
   "metadata": {},
   "outputs": [],
   "source": []
  }
 ],
 "metadata": {
  "kernelspec": {
   "display_name": "Python 3 (ipykernel)",
   "language": "python",
   "name": "python3"
  },
  "language_info": {
   "codemirror_mode": {
    "name": "ipython",
    "version": 3
   },
   "file_extension": ".py",
   "mimetype": "text/x-python",
   "name": "python",
   "nbconvert_exporter": "python",
   "pygments_lexer": "ipython3",
   "version": "3.10.13"
  }
 },
 "nbformat": 4,
 "nbformat_minor": 4
}
