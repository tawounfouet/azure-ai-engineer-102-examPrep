{
 "cells": [
  {
   "cell_type": "code",
   "execution_count": null,
   "metadata": {},
   "outputs": [],
   "source": [
    "! pip install azure-ai-vision-imageanalysis==1.0.0b1"
   ]
  },
  {
   "cell_type": "code",
   "execution_count": 1,
   "metadata": {},
   "outputs": [],
   "source": [
    "from azure.ai.vision.imageanalysis import ImageAnalysisClient\n",
    "from azure.ai.vision.imageanalysis.models import VisualFeatures\n",
    "from azure.core.credentials import AzureKeyCredential"
   ]
  },
  {
   "cell_type": "code",
   "execution_count": 13,
   "metadata": {},
   "outputs": [],
   "source": [
    "import os\n",
    "\n",
    "client = ImageAnalysisClient(\n",
    "    #endpoint=os.environ[\"ENDPOINT\"],\n",
    "    #credential=AzureKeyCredential(os.environ[\"KEY\"])\n",
    "    endpoint=\"https://awf-custom-vision-001.cognitiveservices.azure.com/\",\n",
    "    credential=AzureKeyCredential(\"204d4cefaf0c4134a9a31299c12d5d85\")\n",
    ")\n",
    "\n",
    "result = client.analyze(\n",
    "    image_url=\"https://www.silicon.fr/wp-content/uploads/2023/03/Bill-Gates-Headshot-1021x683-1-684x513.jpg\",\n",
    "    visual_features=[VisualFeatures.CAPTION, VisualFeatures.READ],\n",
    "    gender_neutral_caption=True,\n",
    "    language=\"en\",\n",
    ")"
   ]
  },
  {
   "cell_type": "code",
   "execution_count": 14,
   "metadata": {},
   "outputs": [
    {
     "name": "stdout",
     "output_type": "stream",
     "text": [
      "{'modelVersion': '2023-10-01', 'captionResult': {'text': 'a person wearing glasses and a sweater', 'confidence': 0.7628260850906372}, 'metadata': {'width': 684, 'height': 513}, 'readResult': {'blocks': []}}\n"
     ]
    }
   ],
   "source": [
    "print(result)"
   ]
  },
  {
   "cell_type": "code",
   "execution_count": 17,
   "metadata": {},
   "outputs": [],
   "source": [
    "#!pip install pillow"
   ]
  },
  {
   "cell_type": "code",
   "execution_count": 21,
   "metadata": {},
   "outputs": [],
   "source": [
    "import json\n",
    "import os\n",
    "from PIL import Image\n",
    "from datetime import datetime\n",
    "\n",
    "def create_coco_file(image_path, annotations, output_file):\n",
    "    # Load image and get dimensions\n",
    "    image = Image.open(image_path)\n",
    "    width, height = image.size\n",
    "\n",
    "    # Prepare COCO data structure\n",
    "    coco_data = {\n",
    "        \"info\": {\n",
    "            \"description\": \"COCO Dataset\",\n",
    "            \"url\": \"http://cocodataset.org\",\n",
    "            \"version\": \"1.0\",\n",
    "            \"year\": datetime.now().year,\n",
    "            \"contributor\": \"\",\n",
    "            \"date_created\": datetime.now().strftime(\"%Y/%m/%d\")\n",
    "        },\n",
    "        \"licenses\": [\n",
    "            {\n",
    "                \"id\": 1,\n",
    "                \"name\": \"Unknown\",\n",
    "                \"url\": \"http://example.com/license\"\n",
    "            }\n",
    "        ],\n",
    "        \"images\": [\n",
    "            {\n",
    "                \"id\": 1,\n",
    "                \"width\": width,\n",
    "                \"height\": height,\n",
    "                \"file_name\": os.path.basename(image_path),\n",
    "                \"license\": 1,\n",
    "                \"flickr_url\": \"\",\n",
    "                \"coco_url\": \"\",\n",
    "                \"date_captured\": datetime.now().strftime(\"%Y-%m-%d %H:%M:%S\")\n",
    "            }\n",
    "        ],\n",
    "        \"annotations\": [],\n",
    "        \"categories\": []\n",
    "    }\n",
    "\n",
    "    category_ids = {}\n",
    "    annotation_id = 1\n",
    "\n",
    "    # Process annotations\n",
    "    for annotation in annotations:\n",
    "        category_name = annotation['category']\n",
    "        if category_name not in category_ids:\n",
    "            category_id = len(category_ids) + 1\n",
    "            category_ids[category_name] = category_id\n",
    "            coco_data[\"categories\"].append({\n",
    "                \"id\": category_id,\n",
    "                \"name\": category_name,\n",
    "                \"supercategory\": \"none\"\n",
    "            })\n",
    "\n",
    "        category_id = category_ids[category_name]\n",
    "        bbox = annotation['bbox']\n",
    "        \n",
    "        # COCO bounding box format is [x, y, width, height]\n",
    "        coco_annotation = {\n",
    "            \"id\": annotation_id,\n",
    "            \"image_id\": 1,\n",
    "            \"category_id\": category_id,\n",
    "            \"bbox\": bbox,\n",
    "            \"area\": bbox[2] * bbox[3],  # width * height\n",
    "            \"segmentation\": [],\n",
    "            \"iscrowd\": 0\n",
    "        }\n",
    "        coco_data[\"annotations\"].append(coco_annotation)\n",
    "        annotation_id += 1\n",
    "\n",
    "    # Save to JSON file\n",
    "    with open(output_file, 'w') as f:\n",
    "        json.dump(coco_data, f, indent=4)\n",
    "\n",
    "# Example usage\n",
    "image_path = 'images/person.jpg'\n",
    "annotations = [\n",
    "    {\n",
    "        \"category\": \"cat\",\n",
    "        \"bbox\": [100, 150, 50, 50]  # [x, y, width, height]\n",
    "    },\n",
    "    {\n",
    "        \"category\": \"dog\",\n",
    "        \"bbox\": [200, 250, 75, 75]\n",
    "    }\n",
    "]\n",
    "output_file = './results/coco_annotations.json'\n",
    "\n",
    "#create_coco_file(image_path, annotations, output_file)\n",
    "\n"
   ]
  },
  {
   "cell_type": "code",
   "execution_count": 22,
   "metadata": {},
   "outputs": [],
   "source": [
    "#create_coco_file(\"./images/building.jpg\", annotations,  \"./results/co\")\n",
    "create_coco_file(image_path, annotations, output_file)"
   ]
  },
  {
   "cell_type": "code",
   "execution_count": null,
   "metadata": {},
   "outputs": [],
   "source": []
  }
 ],
 "metadata": {
  "kernelspec": {
   "display_name": ".venv",
   "language": "python",
   "name": "python3"
  },
  "language_info": {
   "codemirror_mode": {
    "name": "ipython",
    "version": 3
   },
   "file_extension": ".py",
   "mimetype": "text/x-python",
   "name": "python",
   "nbconvert_exporter": "python",
   "pygments_lexer": "ipython3",
   "version": "3.10.13"
  }
 },
 "nbformat": 4,
 "nbformat_minor": 2
}
